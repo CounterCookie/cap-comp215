{
 "cells": [
  {
   "cell_type": "markdown",
   "metadata": {
    "id": "nbRPZPKZU5Pk"
   },
   "source": [
    "COMP 215 - LAB 2 (NEO)\n",
    "----------------\n",
    "#### Name: Shayan Heidari\n",
    "#### Date: 2023-01-16\n",
    "\n",
    "This lab exercise is mostly a review of strings, tuples, lists, dictionaries, and functions.\n",
    "\n",
    "**Building on new concepts from lab 1**:\n",
    "  * `datetime.date` objects represent a calendar date\n",
    "  * *list comprehension* provides a compact way to represent map and filter algorithms\n",
    "\n",
    "**New Python Concepts**:\n",
    "  * *f-string* simplifies string formatting operations\n",
    "\n",
    "As usual, the first code cell simply imports all the modules we'll be using..."
   ]
  },
  {
   "cell_type": "code",
   "execution_count": 1,
   "metadata": {
    "collapsed": false,
    "jupyter": {
     "outputs_hidden": false
    },
    "pycharm": {
     "name": "#%%\n"
    }
   },
   "outputs": [],
   "source": [
    "import datetime, json, requests\n",
    "from pprint import pprint    # Pretty Print - built-in python function to nicely format data structures\n",
    "from dataclasses import dataclass"
   ]
  },
  {
   "cell_type": "markdown",
   "metadata": {
    "pycharm": {
     "name": "#%% md\n"
    }
   },
   "source": [
    "We'll answer some questions about [Near Earth Objects](https://cneos.jpl.nasa.gov/)\n",
    "> using NASA's API:  [https://api.nasa.gov/](https://api.nasa.gov/#NeoWS)\n",
    "\n",
    "You should register for your own API key, (but may use the DEMO_KEY to get started).\n",
    "\n",
    "First we need a short tutorial on python dates and [f-strings](https://realpython.com/python-f-strings/)..."
   ]
  },
  {
   "cell_type": "code",
   "execution_count": 2,
   "metadata": {
    "collapsed": false,
    "jupyter": {
     "outputs_hidden": false
    },
    "pycharm": {
     "name": "#%%\n"
    }
   },
   "outputs": [
    {
     "name": "stdout",
     "output_type": "stream",
     "text": [
      "2023-02-04 <class 'datetime.date'>\n",
      "Today is: 2023-02-04\n"
     ]
    }
   ],
   "source": [
    "today = datetime.date.today()   # get a date object representing today's date\n",
    "print(today, type(today))\n",
    "formatted_date = f'Today is: {today}'   # A format string - notice how the variable `today` is formatted into the stringg\n",
    "print(formatted_date)"
   ]
  },
  {
   "cell_type": "markdown",
   "metadata": {
    "pycharm": {
     "name": "#%% md\n"
    }
   },
   "source": [
    "### Make a query\n",
    "\n",
    "Let's get some data from the NEO database...\n",
    "Here's a query that gets the observation \"feed\" for today.\n",
    "(Note: I hard-coded the date below to lock down the data for the lab - ideally used `today()` so the notebook is always up-to-date.)\n",
    "\n",
    "# change to demo API for submission\n"
   ]
  },
  {
   "cell_type": "code",
   "execution_count": 3,
   "metadata": {
    "collapsed": false,
    "jupyter": {
     "outputs_hidden": false
    },
    "pycharm": {
     "name": "#%%\n"
    }
   },
   "outputs": [
    {
     "name": "stdout",
     "output_type": "stream",
     "text": [
      "16 Near Earth Objects found for 2023-02-03\n",
      "[{'absolute_magnitude_h': 18.33,\n",
      "  'close_approach_data': [{'close_approach_date': '2023-02-03',\n",
      "                           'close_approach_date_full': '2023-Feb-03 22:49',\n",
      "                           'epoch_date_close_approach': 1675464540000,\n",
      "                           'miss_distance': {'astronomical': '0.1159826622',\n",
      "                                             'kilometers': '17350759.222049514',\n",
      "                                             'lunar': '45.1172555958',\n",
      "                                             'miles': '10781261.8468267332'},\n",
      "                           'orbiting_body': 'Earth',\n",
      "                           'relative_velocity': {'kilometers_per_hour': '46176.7934314699',\n",
      "                                                 'kilometers_per_second': '12.8268870643',\n",
      "                                                 'miles_per_hour': '28692.4636741264'}}],\n",
      "  'estimated_diameter': {'feet': {'estimated_diameter_max': 4207.5087712198,\n",
      "                                  'estimated_diameter_min': 1881.6551256748},\n",
      "                         'kilometers': {'estimated_diameter_max': 1.2824486324,\n",
      "                                        'estimated_diameter_min': 0.573528464},\n",
      "                         'meters': {'estimated_diameter_max': 1282.4486324295,\n",
      "                                    'estimated_diameter_min': 573.5284639528},\n",
      "                         'miles': {'estimated_diameter_max': 0.7968763892,\n",
      "                                   'estimated_diameter_min': 0.3563739552}},\n",
      "  'id': '2137175',\n",
      "  'is_potentially_hazardous_asteroid': False,\n",
      "  'is_sentry_object': False,\n",
      "  'links': {'self': 'http://api.nasa.gov/neo/rest/v1/neo/2137175?api_key=HXKCZVSZS0dUr6rcfPO4N76u0LOueCavzMxReGwp'},\n",
      "  'name': '137175 (1999 JA11)',\n",
      "  'nasa_jpl_url': 'http://ssd.jpl.nasa.gov/sbdb.cgi?sstr=2137175',\n",
      "  'neo_reference_id': '2137175'},\n",
      " {'absolute_magnitude_h': 21.88,\n",
      "  'close_approach_data': [{'close_approach_date': '2023-02-03',\n",
      "                           'close_approach_date_full': '2023-Feb-03 08:51',\n",
      "                           'epoch_date_close_approach': 1675414260000,\n",
      "                           'miss_distance': {'astronomical': '0.0121452393',\n",
      "                                             'kilometers': '1816901.929920291',\n",
      "                                             'lunar': '4.7244980877',\n",
      "                                             'miles': '1128970.5081943758'},\n",
      "                           'orbiting_body': 'Earth',\n",
      "                           'relative_velocity': {'kilometers_per_hour': '35705.6770230417',\n",
      "                                                 'kilometers_per_second': '9.9182436175',\n",
      "                                                 'miles_per_hour': '22186.1191480117'}}],\n",
      "  'estimated_diameter': {'feet': {'estimated_diameter_max': 820.3988255998,\n",
      "                                  'estimated_diameter_min': 366.8935085404},\n",
      "                         'kilometers': {'estimated_diameter_max': 0.250057554,\n",
      "                                        'estimated_diameter_min': 0.1118291378},\n",
      "                         'meters': {'estimated_diameter_max': 250.057554041,\n",
      "                                    'estimated_diameter_min': 111.8291378246},\n",
      "                         'miles': {'estimated_diameter_max': 0.1553785124,\n",
      "                                   'estimated_diameter_min': 0.0694873832}},\n",
      "  'id': '2367789',\n",
      "  'is_potentially_hazardous_asteroid': True,\n",
      "  'is_sentry_object': False,\n",
      "  'links': {'self': 'http://api.nasa.gov/neo/rest/v1/neo/2367789?api_key=HXKCZVSZS0dUr6rcfPO4N76u0LOueCavzMxReGwp'},\n",
      "  'name': '367789 (2011 AG5)',\n",
      "  'nasa_jpl_url': 'http://ssd.jpl.nasa.gov/sbdb.cgi?sstr=2367789',\n",
      "  'neo_reference_id': '2367789'},\n",
      " {'absolute_magnitude_h': 18.95,\n",
      "  'close_approach_data': [{'close_approach_date': '2023-02-03',\n",
      "                           'close_approach_date_full': '2023-Feb-03 14:34',\n",
      "                           'epoch_date_close_approach': 1675434840000,\n",
      "                           'miss_distance': {'astronomical': '0.2112249964',\n",
      "                                             'kilometers': '31598809.552197668',\n",
      "                                             'lunar': '82.1665235996',\n",
      "                                             'miles': '19634589.7877090984'},\n",
      "                           'orbiting_body': 'Earth',\n",
      "                           'relative_velocity': {'kilometers_per_hour': '77221.1966545688',\n",
      "                                                 'kilometers_per_second': '21.450332404',\n",
      "                                                 'miles_per_hour': '47982.2485546125'}}],\n",
      "  'estimated_diameter': {'feet': {'estimated_diameter_max': 3162.4599192312,\n",
      "                                  'estimated_diameter_min': 1414.2950711039},\n",
      "                         'kilometers': {'estimated_diameter_max': 0.9639177525,\n",
      "                                        'estimated_diameter_min': 0.4310771239},\n",
      "                         'meters': {'estimated_diameter_max': 963.9177525363,\n",
      "                                    'estimated_diameter_min': 431.077123878},\n",
      "                         'miles': {'estimated_diameter_max': 0.5989505378,\n",
      "                                   'estimated_diameter_min': 0.2678588235}},\n",
      "  'id': '2418198',\n",
      "  'is_potentially_hazardous_asteroid': False,\n",
      "  'is_sentry_object': False,\n",
      "  'links': {'self': 'http://api.nasa.gov/neo/rest/v1/neo/2418198?api_key=HXKCZVSZS0dUr6rcfPO4N76u0LOueCavzMxReGwp'},\n",
      "  'name': '418198 (2008 CN70)',\n",
      "  'nasa_jpl_url': 'http://ssd.jpl.nasa.gov/sbdb.cgi?sstr=2418198',\n",
      "  'neo_reference_id': '2418198'}]\n"
     ]
    }
   ],
   "source": [
    "API_KEY = 'HXKCZVSZS0dUr6rcfPO4N76u0LOueCavzMxReGwp'  # substitute your API key here\n",
    "\n",
    "today = str(datetime.date.today() - datetime.timedelta(days = 1))  #  Using yesterday since data for current day might not be available yet\n",
    "# Use an f-string here to \"format\" the date and API key varaibles.\n",
    "url = f'https://api.nasa.gov/neo/rest/v1/feed?start_date={today}&end_date={today}&api_key={API_KEY}'\n",
    "\n",
    "response = requests.request(\"GET\", url, headers={}, data={})\n",
    "\n",
    "data = json.loads(response.text)  # recall json.loads for lab 1\n",
    "\n",
    "# TIP: print(data) to see the whole data structure returned, here we grab just the list of NEO's:\n",
    "n_results = data['element_count']\n",
    "neos = data['near_earth_objects'][today]\n",
    "print(f'{n_results} Near Earth Objects found for {today}')\n",
    "pprint(neos[:3])\n",
    "#print(json.dumps(response.text))"
   ]
  },
  {
   "cell_type": "markdown",
   "metadata": {
    "pycharm": {
     "name": "#%% md\n"
    }
   },
   "source": [
    "Next we extract just the potentially hazerdous asteroids, using a Comp115-style list accumulator *loop*:"
   ]
  },
  {
   "cell_type": "code",
   "execution_count": 4,
   "metadata": {
    "id": "JDGbYTySU3BP"
   },
   "outputs": [
    {
     "name": "stdout",
     "output_type": "stream",
     "text": [
      "1 potentially hazardous asteroids identified.\n"
     ]
    }
   ],
   "source": [
    "hazards =  []\n",
    "for item in neos:\n",
    "  if item['is_potentially_hazardous_asteroid'] is True:\n",
    "    hazards.append(item)\n",
    "print(f'{len(hazards)} potentially hazardous asteroids identified.')"
   ]
  },
  {
   "cell_type": "markdown",
   "metadata": {
    "pycharm": {
     "name": "#%% md\n"
    }
   },
   "source": [
    "## Exercise 1\n",
    "\n",
    "In the code cell below, **re-write the accumulator loop above** as a [list comprehension](https://realpython.com/lessons/list-comprehensions-overview/) that implements a [\"filter\"](https://youtu.be/hUes6y2b--0)\n",
    "Notice how this provides a concise way to \"filter\" items of interest from a larger data set."
   ]
  },
  {
   "cell_type": "code",
   "execution_count": 5,
   "metadata": {
    "collapsed": false,
    "jupyter": {
     "outputs_hidden": false
    },
    "pycharm": {
     "name": "#%%\n"
    }
   },
   "outputs": [
    {
     "name": "stdout",
     "output_type": "stream",
     "text": [
      "[{'absolute_magnitude_h': 21.88,\n",
      "  'close_approach_data': [{'close_approach_date': '2023-02-03',\n",
      "                           'close_approach_date_full': '2023-Feb-03 08:51',\n",
      "                           'epoch_date_close_approach': 1675414260000,\n",
      "                           'miss_distance': {'astronomical': '0.0121452393',\n",
      "                                             'kilometers': '1816901.929920291',\n",
      "                                             'lunar': '4.7244980877',\n",
      "                                             'miles': '1128970.5081943758'},\n",
      "                           'orbiting_body': 'Earth',\n",
      "                           'relative_velocity': {'kilometers_per_hour': '35705.6770230417',\n",
      "                                                 'kilometers_per_second': '9.9182436175',\n",
      "                                                 'miles_per_hour': '22186.1191480117'}}],\n",
      "  'estimated_diameter': {'feet': {'estimated_diameter_max': 820.3988255998,\n",
      "                                  'estimated_diameter_min': 366.8935085404},\n",
      "                         'kilometers': {'estimated_diameter_max': 0.250057554,\n",
      "                                        'estimated_diameter_min': 0.1118291378},\n",
      "                         'meters': {'estimated_diameter_max': 250.057554041,\n",
      "                                    'estimated_diameter_min': 111.8291378246},\n",
      "                         'miles': {'estimated_diameter_max': 0.1553785124,\n",
      "                                   'estimated_diameter_min': 0.0694873832}},\n",
      "  'id': '2367789',\n",
      "  'is_potentially_hazardous_asteroid': True,\n",
      "  'is_sentry_object': False,\n",
      "  'links': {'self': 'http://api.nasa.gov/neo/rest/v1/neo/2367789?api_key=HXKCZVSZS0dUr6rcfPO4N76u0LOueCavzMxReGwp'},\n",
      "  'name': '367789 (2011 AG5)',\n",
      "  'nasa_jpl_url': 'http://ssd.jpl.nasa.gov/sbdb.cgi?sstr=2367789',\n",
      "  'neo_reference_id': '2367789'}]\n"
     ]
    }
   ],
   "source": [
    "# Your code here\n",
    "hazards = [item for item in neos if item['is_potentially_hazardous_asteroid'] is True]\n",
    "pprint(hazards[:5])"
   ]
  },
  {
   "cell_type": "markdown",
   "metadata": {
    "pycharm": {
     "name": "#%% md\n"
    }
   },
   "source": [
    "## Fetch Complete Data for One Asteroid\n",
    "\n",
    "Notice that the record for each `neo` is a dictionary with `id` field that uniquely identifies this record in the database.\n",
    "\n",
    "We can use this `id` to fetch complete orbital and close approach data for the NEO.\n",
    "\n",
    "For example, this query fetches the complete data set for the first hazardous asteroid...\n"
   ]
  },
  {
   "cell_type": "code",
   "execution_count": null,
   "metadata": {
    "collapsed": false,
    "jupyter": {
     "outputs_hidden": false
    },
    "pycharm": {
     "name": "#%%\n"
    }
   },
   "outputs": [],
   "source": [
    "id = hazards[0]['id']\n",
    "url = f'https://api.nasa.gov/neo/rest/v1/neo/{id}/?api_key={API_KEY}'\n",
    "response = requests.request(\"GET\", url, headers={}, data={})\n",
    "data = json.loads(response.text)\n",
    "\n",
    "pprint(data)"
   ]
  },
  {
   "cell_type": "markdown",
   "metadata": {
    "id": "DNRs7ynOYwYk"
   },
   "source": [
    "Notice that the `miss_distance` field contains the distance (in various units) by which the NEO missed an \"orbiting body\".\n",
    "\n",
    "## Exercise 2\n",
    "\n",
    "In the code cell below, write a python function that takes a list of \"close approach data\" as a parameter,\n",
    "and returns a 2-tuple with the (date, miss km) of the closest approach to Earth in the list (where \"miss km\" is the miss distance in km).\n",
    "\n",
    "Hints:\n",
    "* notice the input is a list of dictionaries.  Each dictionary has a 'close_approach_date\", \"orbiting_body\", and 'miss_distance' field.\n",
    "* we are only interested in the closest approach to \"Earth\"\n",
    "* use a loop if that is easier to understand - we will look at more compact algorithms to solve this problem in class.\n",
    "\n",
    "Add at least one unit test to check your work - note the test data only needs dictionaries with the fields your function actually uses.\n"
   ]
  },
  {
   "cell_type": "code",
   "execution_count": 7,
   "metadata": {
    "colab": {
     "base_uri": "https://localhost:8080/"
    },
    "id": "tiyXTDfnZAd0",
    "outputId": "d458a4a2-813a-4b12-e688-73aa07a687db"
   },
   "outputs": [
    {
     "name": "stdout",
     "output_type": "stream",
     "text": [
      "('1946-02-08', 4702983.950672007)\n"
     ]
    }
   ],
   "source": [
    "# your code here\n",
    "\n",
    "nasaApproachData = data['close_approach_data']\n",
    "\n",
    "def closestDeath(data):\n",
    "    earthOrbitter = [orbitter for orbitter in data if orbitter['orbiting_body'] == \"Earth\"]\n",
    "\n",
    "    closest = float(earthOrbitter[0]['miss_distance']['kilometers']) # set the initial value to something in the list\n",
    "    \n",
    "    for i in earthOrbitter:\n",
    "        distance = float(i['miss_distance']['kilometers'])\n",
    "        if closest >= distance:\n",
    "            closest = distance\n",
    "            nearEarthObject = (i['close_approach_date'], closest)\n",
    "    return nearEarthObject\n",
    "\n",
    "\n",
    "assert closestDeath(nasaApproachData[5:10]) == ('1946-02-08', 4702983.950672007) # taking a manual look at the first few, this is the closest and it passes assertion\n",
    "\n",
    "print(closestDeath(nasaApproachData[5:10]))\n"
   ]
  },
  {
   "cell_type": "markdown",
   "metadata": {},
   "source": [
    "## OPTIONAL - Take your skills to the next level...\n",
    "## Exercise 3\n",
    "\n",
    "In the code cell below, write a complete program that:\n",
    " 1. fetches the list of NEO's for this week.\n",
    " 2. for each NEO, fetch it's complete orbital data and determine its closest approach to Earth\n",
    " 3. identify which NEO from this week's data makes the closet approach to earth\n",
    " 4. print a nice message with information about the NEO, which it will approach the Earth, and how close it will come.\n",
    "\n",
    "Hints:\n",
    "* you'll need the start and end date - end date is today, see if you can use a [`timedelta`](https://docs.python.org/3/library/datetime.html#timedelta-objects) object to ge the start date (you can do basic \"date math\" with `timedelta` and `date` objects!)\n",
    "* you may need to modify the function we wrote in Ex. 2 to return a triple with the NEO's id included;\n",
    "* lots of opportunity here for more practice with list comprehensions\n"
   ]
  },
  {
   "cell_type": "code",
   "execution_count": 8,
   "metadata": {
    "colab": {
     "base_uri": "https://localhost:8080/"
    },
    "id": "Ds1YevErlzCe",
    "outputId": "87047de1-ec1b-4a81-d6a1-7f2049b6c2f8",
    "pycharm": {
     "name": "#%%\n"
    }
   },
   "outputs": [],
   "source": [
    "# your code here\n"
   ]
  },
  {
   "cell_type": "markdown",
   "metadata": {},
   "source": [
    "# Lab 3"
   ]
  },
  {
   "cell_type": "code",
   "execution_count": 9,
   "metadata": {
    "tags": []
   },
   "outputs": [
    {
     "name": "stdout",
     "output_type": "stream",
     "text": [
      "An asteroid object with the ID 3449054, name (2009 DL46), estimated diameter 237.7059095613\n",
      "\n",
      "Asteroid(neoID='3449054',\n",
      "         name='(2009 DL46)',\n",
      "         estimated_diameter=237.7059095613,\n",
      "         approachData=[CloseApproach(asteroid=Asteroid(neoID='3449054',\n",
      "                                                       name='(2009 DL46)',\n",
      "                                                       estimated_diameter=237.7059095613,\n",
      "                                                       approachData=[]),\n",
      "                                     orbiting_body='Earth',\n",
      "                                     approach_date=datetime.date(1904, 5, 26),\n",
      "                                     miss_distance=3789280.163182445,\n",
      "                                     relative_velocity=6.6773826693),\n",
      "                       CloseApproach(asteroid=Asteroid(neoID='3449054',\n",
      "                                                       name='(2009 DL46)',\n",
      "                                                       estimated_diameter=237.7059095613,\n",
      "                                                       approachData=[]),\n",
      "                                     orbiting_body='Earth',\n",
      "                                     approach_date=datetime.date(1911, 4, 23),\n",
      "                                     miss_distance=14378519.868500603,\n",
      "                                     relative_velocity=6.5554049258),\n",
      "                       CloseApproach(asteroid=Asteroid(neoID='3449054',\n",
      "                                                       name='(2009 DL46)',\n",
      "                                                       estimated_diameter=237.7059095613,\n",
      "                                                       approachData=[]),\n",
      "                                     orbiting_body='Earth',\n",
      "                                     approach_date=datetime.date(1918, 3, 24),\n",
      "                                     miss_distance=39245257.54156643,\n",
      "                                     relative_velocity=11.691736477),\n",
      "                       CloseApproach(asteroid=Asteroid(neoID='3449054',\n",
      "                                                       name='(2009 DL46)',\n",
      "                                                       estimated_diameter=237.7059095613,\n",
      "                                                       approachData=[]),\n",
      "                                     orbiting_body='Earth',\n",
      "                                     approach_date=datetime.date(1925, 3, 10),\n",
      "                                     miss_distance=69982555.11587864,\n",
      "                                     relative_velocity=18.0855957642),\n",
      "                       CloseApproach(asteroid=Asteroid(neoID='3449054',\n",
      "                                                       name='(2009 DL46)',\n",
      "                                                       estimated_diameter=237.7059095613,\n",
      "                                                       approachData=[]),\n",
      "                                     orbiting_body='Earth',\n",
      "                                     approach_date=datetime.date(1944, 7, 1),\n",
      "                                     miss_distance=61253621.39720641,\n",
      "                                     relative_velocity=17.0271824481),\n",
      "                       CloseApproach(asteroid=Asteroid(neoID='3449054',\n",
      "                                                       name='(2009 DL46)',\n",
      "                                                       estimated_diameter=237.7059095613,\n",
      "                                                       approachData=[]),\n",
      "                                     orbiting_body='Earth',\n",
      "                                     approach_date=datetime.date(1951, 6, 18),\n",
      "                                     miss_distance=30210848.98157711,\n",
      "                                     relative_velocity=11.1779368495),\n",
      "                       CloseApproach(asteroid=Asteroid(neoID='3449054',\n",
      "                                                       name='(2009 DL46)',\n",
      "                                                       estimated_diameter=237.7059095613,\n",
      "                                                       approachData=[]),\n",
      "                                     orbiting_body='Earth',\n",
      "                                     approach_date=datetime.date(1958, 5, 27),\n",
      "                                     miss_distance=3942271.077431702,\n",
      "                                     relative_velocity=6.6902781282),\n",
      "                       CloseApproach(asteroid=Asteroid(neoID='3449054',\n",
      "                                                       name='(2009 DL46)',\n",
      "                                                       estimated_diameter=237.7059095613,\n",
      "                                                       approachData=[]),\n",
      "                                     orbiting_body='Earth',\n",
      "                                     approach_date=datetime.date(1965, 5, 25),\n",
      "                                     miss_distance=2549826.13114045,\n",
      "                                     relative_velocity=6.4889751684),\n",
      "                       CloseApproach(asteroid=Asteroid(neoID='3449054',\n",
      "                                                       name='(2009 DL46)',\n",
      "                                                       estimated_diameter=237.7059095613,\n",
      "                                                       approachData=[]),\n",
      "                                     orbiting_body='Earth',\n",
      "                                     approach_date=datetime.date(1972, 6, 17),\n",
      "                                     miss_distance=30039300.750750095,\n",
      "                                     relative_velocity=11.1470022345),\n",
      "                       CloseApproach(asteroid=Asteroid(neoID='3449054',\n",
      "                                                       name='(2009 DL46)',\n",
      "                                                       estimated_diameter=237.7059095613,\n",
      "                                                       approachData=[]),\n",
      "                                     orbiting_body='Earth',\n",
      "                                     approach_date=datetime.date(1979, 7, 3),\n",
      "                                     miss_distance=62770968.73175614,\n",
      "                                     relative_velocity=17.3176035369),\n",
      "                       CloseApproach(asteroid=Asteroid(neoID='3449054',\n",
      "                                                       name='(2009 DL46)',\n",
      "                                                       estimated_diameter=237.7059095613,\n",
      "                                                       approachData=[]),\n",
      "                                     orbiting_body='Earth',\n",
      "                                     approach_date=datetime.date(2002, 3, 21),\n",
      "                                     miss_distance=48188692.5850122,\n",
      "                                     relative_velocity=13.6344374839),\n",
      "                       CloseApproach(asteroid=Asteroid(neoID='3449054',\n",
      "                                                       name='(2009 DL46)',\n",
      "                                                       estimated_diameter=237.7059095613,\n",
      "                                                       approachData=[]),\n",
      "                                     orbiting_body='Earth',\n",
      "                                     approach_date=datetime.date(2002, 7, 22),\n",
      "                                     miss_distance=65908842.60761246,\n",
      "                                     relative_velocity=3.5215201927),\n",
      "                       CloseApproach(asteroid=Asteroid(neoID='3449054',\n",
      "                                                       name='(2009 DL46)',\n",
      "                                                       estimated_diameter=237.7059095613,\n",
      "                                                       approachData=[]),\n",
      "                                     orbiting_body='Earth',\n",
      "                                     approach_date=datetime.date(2009, 4, 14),\n",
      "                                     miss_distance=19444961.388681717,\n",
      "                                     relative_velocity=7.5512771174),\n",
      "                       CloseApproach(asteroid=Asteroid(neoID='3449054',\n",
      "                                                       name='(2009 DL46)',\n",
      "                                                       estimated_diameter=237.7059095613,\n",
      "                                                       approachData=[]),\n",
      "                                     orbiting_body='Earth',\n",
      "                                     approach_date=datetime.date(2016, 5, 24),\n",
      "                                     miss_distance=2368042.294369737,\n",
      "                                     relative_velocity=6.4611735042),\n",
      "                       CloseApproach(asteroid=Asteroid(neoID='3449054',\n",
      "                                                       name='(2009 DL46)',\n",
      "                                                       estimated_diameter=237.7059095613,\n",
      "                                                       approachData=[]),\n",
      "                                     orbiting_body='Earth',\n",
      "                                     approach_date=datetime.date(2023, 2, 2),\n",
      "                                     miss_distance=73848190.0169493,\n",
      "                                     relative_velocity=6.0832444602),\n",
      "                       CloseApproach(asteroid=Asteroid(neoID='3449054',\n",
      "                                                       name='(2009 DL46)',\n",
      "                                                       estimated_diameter=237.7059095613,\n",
      "                                                       approachData=[]),\n",
      "                                     orbiting_body='Earth',\n",
      "                                     approach_date=datetime.date(2023, 7, 2),\n",
      "                                     miss_distance=58006246.45820491,\n",
      "                                     relative_velocity=16.4147022589),\n",
      "                       CloseApproach(asteroid=Asteroid(neoID='3449054',\n",
      "                                                       name='(2009 DL46)',\n",
      "                                                       estimated_diameter=237.7059095613,\n",
      "                                                       approachData=[]),\n",
      "                                     orbiting_body='Earth',\n",
      "                                     approach_date=datetime.date(2039, 4, 3),\n",
      "                                     miss_distance=29933771.062259804,\n",
      "                                     relative_velocity=9.7924444455),\n",
      "                       CloseApproach(asteroid=Asteroid(neoID='3449054',\n",
      "                                                       name='(2009 DL46)',\n",
      "                                                       estimated_diameter=237.7059095613,\n",
      "                                                       approachData=[]),\n",
      "                                     orbiting_body='Earth',\n",
      "                                     approach_date=datetime.date(2046, 6, 11),\n",
      "                                     miss_distance=17688181.840408698,\n",
      "                                     relative_velocity=8.8592463587),\n",
      "                       CloseApproach(asteroid=Asteroid(neoID='3449054',\n",
      "                                                       name='(2009 DL46)',\n",
      "                                                       estimated_diameter=237.7059095613,\n",
      "                                                       approachData=[]),\n",
      "                                     orbiting_body='Earth',\n",
      "                                     approach_date=datetime.date(2062, 3, 16),\n",
      "                                     miss_distance=62849901.47477828,\n",
      "                                     relative_velocity=16.6801489748),\n",
      "                       CloseApproach(asteroid=Asteroid(neoID='3449054',\n",
      "                                                       name='(2009 DL46)',\n",
      "                                                       estimated_diameter=237.7059095613,\n",
      "                                                       approachData=[]),\n",
      "                                     orbiting_body='Earth',\n",
      "                                     approach_date=datetime.date(2069, 5, 7),\n",
      "                                     miss_distance=7776934.013406484,\n",
      "                                     relative_velocity=6.0954697097),\n",
      "                       CloseApproach(asteroid=Asteroid(neoID='3449054',\n",
      "                                                       name='(2009 DL46)',\n",
      "                                                       estimated_diameter=237.7059095613,\n",
      "                                                       approachData=[]),\n",
      "                                     orbiting_body='Earth',\n",
      "                                     approach_date=datetime.date(2076, 2, 21),\n",
      "                                     miss_distance=61606675.8261172,\n",
      "                                     relative_velocity=3.4107655061),\n",
      "                       CloseApproach(asteroid=Asteroid(neoID='3449054',\n",
      "                                                       name='(2009 DL46)',\n",
      "                                                       estimated_diameter=237.7059095613,\n",
      "                                                       approachData=[]),\n",
      "                                     orbiting_body='Earth',\n",
      "                                     approach_date=datetime.date(2076, 6, 22),\n",
      "                                     miss_distance=37666621.231259584,\n",
      "                                     relative_velocity=12.5169886147),\n",
      "                       CloseApproach(asteroid=Asteroid(neoID='3449054',\n",
      "                                                       name='(2009 DL46)',\n",
      "                                                       estimated_diameter=237.7059095613,\n",
      "                                                       approachData=[]),\n",
      "                                     orbiting_body='Earth',\n",
      "                                     approach_date=datetime.date(2092, 3, 14),\n",
      "                                     miss_distance=67374146.23444939,\n",
      "                                     relative_velocity=17.5964482874),\n",
      "                       CloseApproach(asteroid=Asteroid(neoID='3449054',\n",
      "                                                       name='(2009 DL46)',\n",
      "                                                       estimated_diameter=237.7059095613,\n",
      "                                                       approachData=[]),\n",
      "                                     orbiting_body='Earth',\n",
      "                                     approach_date=datetime.date(2099, 4, 14),\n",
      "                                     miss_distance=19834246.821009304,\n",
      "                                     relative_velocity=7.7153092049),\n",
      "                       CloseApproach(asteroid=Asteroid(neoID='3449054',\n",
      "                                                       name='(2009 DL46)',\n",
      "                                                       estimated_diameter=237.7059095613,\n",
      "                                                       approachData=[]),\n",
      "                                     orbiting_body='Earth',\n",
      "                                     approach_date=datetime.date(2106, 6, 13),\n",
      "                                     miss_distance=18298092.625674862,\n",
      "                                     relative_velocity=8.9465445323),\n",
      "                       CloseApproach(asteroid=Asteroid(neoID='3449054',\n",
      "                                                       name='(2009 DL46)',\n",
      "                                                       estimated_diameter=237.7059095613,\n",
      "                                                       approachData=[]),\n",
      "                                     orbiting_body='Earth',\n",
      "                                     approach_date=datetime.date(2113, 7, 7),\n",
      "                                     miss_distance=68370375.50740701,\n",
      "                                     relative_velocity=18.3340258926),\n",
      "                       CloseApproach(asteroid=Asteroid(neoID='3449054',\n",
      "                                                       name='(2009 DL46)',\n",
      "                                                       estimated_diameter=237.7059095613,\n",
      "                                                       approachData=[]),\n",
      "                                     orbiting_body='Earth',\n",
      "                                     approach_date=datetime.date(2129, 3, 30),\n",
      "                                     miss_distance=37742008.01108975,\n",
      "                                     relative_velocity=11.4933724773),\n",
      "                       CloseApproach(asteroid=Asteroid(neoID='3449054',\n",
      "                                                       name='(2009 DL46)',\n",
      "                                                       estimated_diameter=237.7059095613,\n",
      "                                                       approachData=[]),\n",
      "                                     orbiting_body='Earth',\n",
      "                                     approach_date=datetime.date(2136, 5, 28),\n",
      "                                     miss_distance=3609721.923843296,\n",
      "                                     relative_velocity=6.6016085959),\n",
      "                       CloseApproach(asteroid=Asteroid(neoID='3449054',\n",
      "                                                       name='(2009 DL46)',\n",
      "                                                       estimated_diameter=237.7059095613,\n",
      "                                                       approachData=[]),\n",
      "                                     orbiting_body='Earth',\n",
      "                                     approach_date=datetime.date(2152, 3, 25),\n",
      "                                     miss_distance=45951315.353411004,\n",
      "                                     relative_velocity=13.2630107429),\n",
      "                       CloseApproach(asteroid=Asteroid(neoID='3449054',\n",
      "                                                       name='(2009 DL46)',\n",
      "                                                       estimated_diameter=237.7059095613,\n",
      "                                                       approachData=[]),\n",
      "                                     orbiting_body='Earth',\n",
      "                                     approach_date=datetime.date(2152, 7, 20),\n",
      "                                     miss_distance=64595433.28279854,\n",
      "                                     relative_velocity=3.116834907),\n",
      "                       CloseApproach(asteroid=Asteroid(neoID='3449054',\n",
      "                                                       name='(2009 DL46)',\n",
      "                                                       estimated_diameter=237.7059095613,\n",
      "                                                       approachData=[]),\n",
      "                                     orbiting_body='Earth',\n",
      "                                     approach_date=datetime.date(2159, 6, 15),\n",
      "                                     miss_distance=20388319.06435416,\n",
      "                                     relative_velocity=9.2895511705),\n",
      "                       CloseApproach(asteroid=Asteroid(neoID='3449054',\n",
      "                                                       name='(2009 DL46)',\n",
      "                                                       estimated_diameter=237.7059095613,\n",
      "                                                       approachData=[]),\n",
      "                                     orbiting_body='Mars',\n",
      "                                     approach_date=datetime.date(2166, 1, 5),\n",
      "                                     miss_distance=14329202.552048972,\n",
      "                                     relative_velocity=8.9688885822),\n",
      "                       CloseApproach(asteroid=Asteroid(neoID='3449054',\n",
      "                                                       name='(2009 DL46)',\n",
      "                                                       estimated_diameter=237.7059095613,\n",
      "                                                       approachData=[]),\n",
      "                                     orbiting_body='Earth',\n",
      "                                     approach_date=datetime.date(2175, 4, 14),\n",
      "                                     miss_distance=21707046.08481382,\n",
      "                                     relative_velocity=8.1733223854),\n",
      "                       CloseApproach(asteroid=Asteroid(neoID='3449054',\n",
      "                                                       name='(2009 DL46)',\n",
      "                                                       estimated_diameter=237.7059095613,\n",
      "                                                       approachData=[]),\n",
      "                                     orbiting_body='Earth',\n",
      "                                     approach_date=datetime.date(2182, 2, 14),\n",
      "                                     miss_distance=67086136.10670673,\n",
      "                                     relative_velocity=4.6863713324),\n",
      "                       CloseApproach(asteroid=Asteroid(neoID='3449054',\n",
      "                                                       name='(2009 DL46)',\n",
      "                                                       estimated_diameter=237.7059095613,\n",
      "                                                       approachData=[]),\n",
      "                                     orbiting_body='Earth',\n",
      "                                     approach_date=datetime.date(2182, 6, 29),\n",
      "                                     miss_distance=46052695.735539824,\n",
      "                                     relative_velocity=14.0834471514),\n",
      "                       CloseApproach(asteroid=Asteroid(neoID='3449054',\n",
      "                                                       name='(2009 DL46)',\n",
      "                                                       estimated_diameter=237.7059095613,\n",
      "                                                       approachData=[]),\n",
      "                                     orbiting_body='Earth',\n",
      "                                     approach_date=datetime.date(2198, 5, 9),\n",
      "                                     miss_distance=7570510.838974865,\n",
      "                                     relative_velocity=6.1268676867)])\n"
     ]
    }
   ],
   "source": [
    "@dataclass\n",
    "class Asteroid:\n",
    "    neoID: str\n",
    "    name: str\n",
    "    estimated_diameter: float\n",
    "    approachData: list\n",
    "\n",
    "    \n",
    "    @classmethod\n",
    "    def from_NEO(cls, neo_id):\n",
    "        url = f'https://api.nasa.gov/neo/rest/v1/neo/{neo_id}/?api_key={API_KEY}'\n",
    "        response = requests.request(\"GET\", url, headers={}, data={})\n",
    "        data = json.loads(response.text)\n",
    "        records = data['close_approach_data']\n",
    "        neoID = neo_id\n",
    "        name = data['name']\n",
    "        estimated_diameter = float(data['estimated_diameter']['meters']['estimated_diameter_max'])\n",
    "        \n",
    "        \n",
    "        approachData = [CloseApproach.closeData(record, Asteroid(neoID,\n",
    "        name,\n",
    "        estimated_diameter,[])) for record in records] # Looks ugly but it has to be an empty list\n",
    "        \n",
    "        return Asteroid(neoID, name, estimated_diameter, approachData)\n",
    "    \n",
    "    def __str__(self):\n",
    "        return f'An asteroid object with the ID {self.neoID}, name {self.name}, estimated diameter {self.estimated_diameter}\\n'\n",
    "\n",
    "@dataclass\n",
    "class CloseApproach:\n",
    "    asteroid: Asteroid\n",
    "    orbiting_body: str\n",
    "    approach_date: datetime.datetime\n",
    "    miss_distance: float\n",
    "    relative_velocity: float\n",
    "    \n",
    "    @classmethod\n",
    "    def closeData(cls, neoRecord, Asteroid):\n",
    "        orbiting_body = neoRecord['orbiting_body']\n",
    "        approach_date = datetime.datetime.fromisoformat(neoRecord['close_approach_date']).date() # it's always in the iso format\n",
    "        miss_distance = float(neoRecord['miss_distance']['kilometers'])\n",
    "        relative_velocity = float(neoRecord['relative_velocity']['kilometers_per_second'])\n",
    "\n",
    "        return CloseApproach(Asteroid, orbiting_body, approach_date, miss_distance, relative_velocity)\n",
    "\n",
    "    \n",
    "astrid = Asteroid.from_NEO('3449054')\n",
    "print(astrid)\n",
    "pprint(astrid)"
   ]
  }
 ],
 "metadata": {
  "colab": {
   "collapsed_sections": [],
   "name": "Lab2-NEO.ipynb",
   "provenance": []
  },
  "kernelspec": {
   "display_name": "Python 3 (ipykernel)",
   "language": "python",
   "name": "python3"
  },
  "language_info": {
   "codemirror_mode": {
    "name": "ipython",
    "version": 3
   },
   "file_extension": ".py",
   "mimetype": "text/x-python",
   "name": "python",
   "nbconvert_exporter": "python",
   "pygments_lexer": "ipython3",
   "version": "3.10.8"
  }
 },
 "nbformat": 4,
 "nbformat_minor": 4
}
