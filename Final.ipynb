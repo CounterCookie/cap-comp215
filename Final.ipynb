{
 "cells": [
  {
   "cell_type": "markdown",
   "id": "2c014b4d-f315-4ff2-97e5-54c29fc97b60",
   "metadata": {},
   "source": [
    "# Take home exam\n",
    "## COMP 215, Spring 2023, Joseph Fall\n",
    "\n",
    "\n",
    "#### Author: Shayan Heidari\n",
    "#### Last Modified: 21 April 2023"
   ]
  }
 ],
 "metadata": {
  "kernelspec": {
   "display_name": "Python 3 (ipykernel)",
   "language": "python",
   "name": "python3"
  },
  "language_info": {
   "codemirror_mode": {
    "name": "ipython",
    "version": 3
   },
   "file_extension": ".py",
   "mimetype": "text/x-python",
   "name": "python",
   "nbconvert_exporter": "python",
   "pygments_lexer": "ipython3",
   "version": "3.10.8"
  }
 },
 "nbformat": 4,
 "nbformat_minor": 5
}
