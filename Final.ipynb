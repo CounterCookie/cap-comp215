{
 "cells": [
  {
   "cell_type": "markdown",
   "id": "2c014b4d-f315-4ff2-97e5-54c29fc97b60",
   "metadata": {},
   "source": [
    "# Take home exam, The Watts-Strogatz experiment\n",
    "## COMP 215, Spring 2023, Joseph Fall\n",
    "\n",
    "\n",
    "#### Author: Shayan Heidari\n",
    "#### Last Modified: 21 April 2023"
   ]
  },
  {
   "cell_type": "markdown",
   "id": "e27422db-0537-4c48-ae3a-0d365ac8394c",
   "metadata": {},
   "source": [
    "The Erdos-Enyi model doesn't include clustering in its thesis.\n",
    "\n",
    "The clustering in this model is based on p.\n",
    "\n",
    "In the experiment, we start off with a ring lattice and randomly rewire links. The random connections lower the path between any opposing nodes which by default, in the ring lattice, have the longest travel path.\n",
    "\n",
    "Therefore we also don't need many random paths to shorten travel distance.\n",
    "\n",
    "### The purpose of this notebook is to Prove the clustering and path length between random graphs and regular graphs\n",
    "Heavily inspired by the Complex notebook"
   ]
  },
  {
   "cell_type": "markdown",
   "id": "09ca91c7-9877-4022-bc67-34d20a973dc1",
   "metadata": {},
   "source": [
    "#### Clustering Coefficient:\n",
    "A term defined by WS that quantifies the likelihood that two nodes that are connected to the same node are also connected to each other."
   ]
  },
  {
   "cell_type": "markdown",
   "id": "5b6305d0-eed9-46fc-b887-f0e18b154aa9",
   "metadata": {},
   "source": [
    "#### Path length:\n",
    "A measure of the average distance between two nodes, which corresponds to the degrees of separation in a social network."
   ]
  },
  {
   "cell_type": "markdown",
   "id": "fba2c17e-f2e0-4595-bf29-a8460fd08618",
   "metadata": {},
   "source": [
    "Watts and Strogratz's experiment is a model of a system with low path lengths and high clustering and short path lengths. Just like a social media.\n",
    "\n",
    "This is done by starting off with a regular graph with `n` nodes and each node connected to `k` number of neighbors. and then randomly replace some default edges with random ones with the probability of p."
   ]
  },
  {
   "cell_type": "code",
   "execution_count": 1,
   "id": "b75adb87-0107-44e6-b063-bea87d4e82c0",
   "metadata": {},
   "outputs": [],
   "source": [
    "import random, numpy as np, networkx as nx, time, matplotlib.pyplot as plt\n",
    "from dataclasses import dataclass"
   ]
  },
  {
   "cell_type": "markdown",
   "id": "ab8762be-f51d-4cec-b07d-fb40d37c6867",
   "metadata": {},
   "source": [
    "#### Here's a \"Social Network\" class which provides all the methods necessary to build a lattice, then rewire to slowly make a WS graph"
   ]
  },
  {
   "cell_type": "code",
   "execution_count": 106,
   "id": "de922691-ed7b-4efd-a97e-aeeff40b914e",
   "metadata": {},
   "outputs": [],
   "source": [
    "@dataclass\n",
    "class SocialNetwork:\n",
    "    # Size\n",
    "    n: int\n",
    "    # Neighbors\n",
    "    k: int\n",
    "    # Probability of reconnecting. \n",
    "    # Very low values cause social networks.\n",
    "    p: int\n",
    "        \n",
    "    def makeRingLattice(self):\n",
    "        nodes = range(self.n)\n",
    "        \n",
    "        self.graph = nx.Graph()\n",
    "        \n",
    "        self.graph.add_nodes_from( nodes )\n",
    "        self.graph.add_edges_from( self.adjacent_edges(nodes, self.k//2) )\n",
    "        return self.graph\n",
    "    \n",
    "    def adjacent_edges(self, nodes, halfk):\n",
    "        '''\n",
    "            Yields edges between each node and `halfk` neighbors.\n",
    "        '''\n",
    "        n = len(nodes)\n",
    "        for i, u in enumerate(nodes):\n",
    "            for j in range(i+1, i+halfk+1):\n",
    "                v = nodes[j % n]\n",
    "                yield u, v\n",
    "                \n",
    "    \n",
    "    def rewire(self, G):\n",
    "        '''\n",
    "            Rewire random edges in our graph. \n",
    "        '''\n",
    "        nodes = set(G)\n",
    "        for u, v in G.edges():\n",
    "            if (np.random.random() < self.p):\n",
    "                choices = nodes - {u} - set(G[u])\n",
    "                new_v = np.random.choice(list(choices))\n",
    "                G.remove_edge(u, v)\n",
    "                G.add_edge(u, new_v)\n",
    "                \n",
    "                \n",
    "    def makeWSGraph(self):\n",
    "        self.ws = self.makeRingLattice()\n",
    "        self.rewire(self.ws)\n",
    "        \n",
    "    def draw(self):\n",
    "        nx.draw_circular(g.ws)\n"
   ]
  },
  {
   "cell_type": "markdown",
   "id": "c2220ddd-0941-4ef5-adcf-406406fdefbd",
   "metadata": {},
   "source": [
    "# Problem:\n",
    "## Find the sweetspot for shortest travel distance and highest clustering."
   ]
  },
  {
   "cell_type": "markdown",
   "id": "8dc5cd9d-719a-4267-aae8-d21b9c97f8df",
   "metadata": {},
   "source": [
    "From WS experiments, this can be found by testing different values of p, the probability of a new random edge to replace a default lattice one."
   ]
  },
  {
   "cell_type": "code",
   "execution_count": 139,
   "id": "8ba731dd-cfb1-4658-98d4-acfd9fd62488",
   "metadata": {},
   "outputs": [
    {
     "name": "stdout",
     "output_type": "stream",
     "text": [
      "0.39333333333333326\n",
      "0.01\n",
      "0.5066666666666667\n",
      "0.02\n",
      "0.29\n",
      "0.03\n",
      "0.49000000000000005\n",
      "0.04\n",
      "0.5566666666666665\n",
      "0.05\n",
      "0.32666666666666666\n",
      "0.060000000000000005\n",
      "0.5733333333333334\n",
      "0.06999999999999999\n",
      "0.4733333333333333\n",
      "0.08\n",
      "0.4066666666666666\n",
      "0.09\n"
     ]
    }
   ],
   "source": [
    "cluster_hist = []\n",
    "for i in np.arange(0.01, 0.1, 0.01):\n",
    "    g = SocialNetwork(10, 4, 0.2)\n",
    "    g.makeWSGraph()\n",
    "    c = nx.average_clustering(g.ws)\n",
    "    print(c)\n",
    "    print(i)\n",
    "    cluster_hist.append(c)"
   ]
  },
  {
   "cell_type": "code",
   "execution_count": 144,
   "id": "f57baa43-32e8-4d89-9f8f-4e5361f28329",
   "metadata": {},
   "outputs": [
    {
     "data": {
      "text/plain": [
       "[<matplotlib.lines.Line2D at 0x7efe7194b280>]"
      ]
     },
     "execution_count": 144,
     "metadata": {},
     "output_type": "execute_result"
    },
    {
     "data": {
      "image/png": "[encoded data removed]",
      "text/plain": [
       "<Figure size 640x480 with 1 Axes>"
      ]
     },
     "metadata": {},
     "output_type": "display_data"
    }
   ],
   "source": [
    "plt.plot(cluster_hist)"
   ]
  }
 ],
 "metadata": {
  "kernelspec": {
   "display_name": "Python 3 (ipykernel)",
   "language": "python",
   "name": "python3"
  },
  "language_info": {
   "codemirror_mode": {
    "name": "ipython",
    "version": 3
   },
   "file_extension": ".py",
   "mimetype": "text/x-python",
   "name": "python",
   "nbconvert_exporter": "python",
   "pygments_lexer": "ipython3",
   "version": "3.10.8"
  }
 },
 "nbformat": 4,
 "nbformat_minor": 5
}
