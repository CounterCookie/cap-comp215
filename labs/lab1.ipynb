{
  "cells": [
    {
      "cell_type": "markdown",
      "metadata": {
        "collapsed": true,
        "pycharm": {
          "name": "#%% md\n"
        },
        "id": "UO4namhuBH3l"
      },
      "source": [
        "COMP 215 - LAB 1\n",
        "----------------\n",
        "#### Name:\n",
        "#### Date:\n",
        "\n",
        "This lab exercise is mostly to introduce some of the power in Jupyter Notebooks.\n",
        "Note that a Notebook is composed of \"cells\" - some are \"text\", like this one, while others are \"code\"\n",
        "\n",
        "We'll also review some basic data types (like `int` and `str`) and data structures (like `list` and `dict`)\n",
        "\n",
        "**New Python Concepts**:\n",
        "  * `datetime.date` objects represent a calendar date (these are very powerful)\n",
        "  * *list comprehension* provides a compact way to represent map and filter algorithms\n",
        "\n",
        "As will be usual, the fist code cell, below, simply imports all the modules we'll be using..."
      ]
    },
    {
      "cell_type": "code",
      "source": [
        "import datetime, json, requests\n",
        "import matplotlib.pyplot as plt\n",
        "import  matplotlib.dates as mdates\n",
        "from pprint import pprint    # Pretty Print - built-in python function to nicely format data structures"
      ],
      "metadata": {
        "pycharm": {
          "name": "#%%\n"
        },
        "id": "DqSJNdSdBH3n"
      },
      "execution_count": 1,
      "outputs": []
    },
    {
      "cell_type": "markdown",
      "source": [
        "### API Query\n",
        "\n",
        "Now, let's fetch some Covid-19 daily case-count data from the Open Covid API:  https://opencovid.ca/api/\n",
        "\n",
        "Query:\n",
        "  - `stat=cases`        # the type of data to fetch\n",
        "  - `loc=BC`            # the location to fetch data for\n",
        "  - `after=2022-11-01`  # since the 1st of november (note date format:  yyyy-mm-dd)"
      ],
      "metadata": {
        "collapsed": false,
        "id": "0rnf67FTBH3p"
      }
    },
    {
      "cell_type": "code",
      "execution_count": 2,
      "outputs": [
        {
          "output_type": "stream",
          "name": "stdout",
          "text": [
            "Response data type: <class 'str'>\n",
            "{\"data\":{\"cases\":[{\"name\":\"cases\",\"region\":\"BC\",\"sub_region_1\":\"593\",\"date\":\"2022-11-01\",\"value\":78661,\"value_daily\":13},{\"name\":\"cases\",\"region\":\"BC\",\"sub_region_1\":\"593\",\"date\":\"2022-11-02\",\"value\":78676,\"value_daily\":15},{\"name\":\"cases\",\"region\":\"BC\",\"sub_region_1\":\"593\",\"date\":\"2022-11-03\",\"value\":78682,\"value_daily\":6},{\"name\":\"cases\",\"region\":\"BC\",\"sub_region_1\":\"593\",\"date\":\"2022-11-04\",\"value\":78699,\"value_daily\":17},{\"name\":\"cases\",\"region\":\"BC\",\"sub_region_1\":\"593\",\"date\":\"2022-11-05\",\"value\":78716,\"value_daily\":17},{\"name\":\"cases\",\"region\":\"BC\",\"sub_region_1\":\"593\",\"date\":\"2022-11-06\",\"value\":78727,\"value_daily\":11},{\"name\":\"cases\",\"region\":\"BC\",\"sub_region_1\":\"593\",\"date\":\"2022-11-07\",\"value\":78739,\"value_daily\":12},{\"name\":\"cases\",\"region\":\"BC\",\"sub_region_1\":\"593\",\"date\":\"2022-11-08\",\"value\":78751,\"value_daily\":12},{\"name\":\"cases\",\"region\":\"BC\",\"sub_region_1\":\"593\",\"date\":\"2022-11-09\",\"value\":78769,\"value_daily\":18},{\"name\":\"cases\",\"region\":\"BC\",\"sub_region_1\":\"593\",\"date\":\"2022-11-10\",\"value\":78784,\"value_daily\":15},{\"name\":\"cases\",\"region\":\"BC\",\"sub_region_1\":\"593\",\"date\":\"2022-11-11\",\"value\":78799,\"value_daily\":15},{\"name\":\"cases\",\"region\":\"BC\",\"sub_region_1\":\"593\",\"date\":\"2022-11-12\",\"value\":78813,\"value_daily\":14},{\"name\":\"cases\",\"region\":\"BC\",\"sub_region_1\":\"593\",\"date\":\"2022-11-13\",\"value\":78828,\"value_daily\":15},{\"name\":\"cases\",\"region\":\"BC\",\"sub_region_1\":\"593\",\"date\":\"2022-11-14\",\"value\":78849,\"value_daily\":21},{\"name\":\"cases\",\"region\":\"BC\",\"sub_region_1\":\"593\",\"date\":\"2022-11-15\",\"value\":78869,\"value_daily\":20},{\"name\":\"cases\",\"region\":\"BC\",\"sub_region_1\":\"593\",\"date\":\"2022-11-16\",\"value\":78883,\"value_daily\":14},{\"name\":\"cases\",\"region\":\"BC\",\"sub_region_1\":\"593\",\"date\":\"2022-11-17\",\"value\":78896,\"value_daily\":13},{\"name\":\"cases\",\"region\":\"BC\",\"sub_region_1\":\"593\",\"date\":\"2022-11-18\",\"value\":78912,\"value_daily\":16},{\"name\":\"cases\",\"region\":\"BC\",\"sub_region_1\":\"593\",\"date\":\"2022-11-19\",\"value\":78938,\"value_daily\":26},{\"name\":\"cases\",\"region\":\"BC\",\"sub_region_1\":\"593\",\"date\":\"2022-11-20\",\"value\":78955,\"value_daily\":17},{\"name\":\"cases\",\"region\":\"BC\",\"sub_region_1\":\"593\",\"date\":\"2022-11-21\",\"value\":78978,\"value_daily\":23},{\"name\":\"cases\",\"region\":\"BC\",\"sub_region_1\":\"593\",\"date\":\"2022-11-22\",\"value\":78999,\"value_daily\":21},{\"name\":\"cases\",\"region\":\"BC\",\"sub_region_1\":\"593\",\"date\":\"2022-11-23\",\"value\":79017,\"value_daily\":18},{\"name\":\"cases\",\"region\":\"BC\",\"sub_region_1\":\"593\",\"date\":\"2022-11-24\",\"value\":79037,\"value_daily\":20},{\"name\":\"cases\",\"region\":\"BC\",\"sub_region_1\":\"593\",\"date\":\"2022-11-25\",\"value\":79061,\"value_daily\":24},{\"name\":\"cases\",\"region\":\"BC\",\"sub_region_1\":\"593\",\"date\":\"2022-11-26\",\"value\":79075,\"value_daily\":14},{\"name\":\"cases\",\"region\":\"BC\",\"sub_region_1\":\"593\",\"date\":\"2022-11-27\",\"value\":79093,\"value_daily\":18},{\"name\":\"cases\",\"region\":\"BC\",\"sub_region_1\":\"593\",\"date\":\"2022-11-28\",\"value\":79112,\"value_daily\":19},{\"name\":\"cases\",\"region\":\"BC\",\"sub_region_1\":\"593\",\"date\":\"2022-11-29\",\"value\":79129,\"value_daily\":17},{\"name\":\"cases\",\"region\":\"BC\",\"sub_region_1\":\"593\",\"date\":\"2022-11-30\",\"value\":79147,\"value_daily\":18},{\"name\":\"cases\",\"region\":\"BC\",\"sub_region_1\":\"593\",\"date\":\"2022-12-01\",\"value\":79161,\"value_daily\":14},{\"name\":\"cases\",\"region\":\"BC\",\"sub_region_1\":\"593\",\"date\":\"2022-12-02\",\"value\":79190,\"value_daily\":29},{\"name\":\"cases\",\"region\":\"BC\",\"sub_region_1\":\"593\",\"date\":\"2022-12-03\",\"value\":79210,\"value_daily\":20},{\"name\":\"cases\",\"region\":\"BC\",\"sub_region_1\":\"593\",\"date\":\"2022-12-04\",\"value\":79234,\"value_daily\":24},{\"name\":\"cases\",\"region\":\"BC\",\"sub_region_1\":\"593\",\"date\":\"2022-12-05\",\"value\":79258,\"value_daily\":24},{\"name\":\"cases\",\"region\":\"BC\",\"sub_region_1\":\"593\",\"date\":\"2022-12-06\",\"value\":79278,\"value_daily\":20},{\"name\":\"cases\",\"region\":\"BC\",\"sub_region_1\":\"593\",\"date\":\"2022-12-07\",\"value\":79303,\"value_daily\":25},{\"name\":\"cases\",\"region\":\"BC\",\"sub_region_1\":\"593\",\"date\":\"2022-12-08\",\"value\":79321,\"value_daily\":18},{\"name\":\"cases\",\"region\":\"BC\",\"sub_region_1\":\"593\",\"date\":\"2022-12-09\",\"value\":79339,\"value_daily\":18},{\"name\":\"cases\",\"region\":\"BC\",\"sub_region_1\":\"593\",\"date\":\"2022-12-10\",\"value\":79365,\"value_daily\":26},{\"name\":\"cases\",\"region\":\"BC\",\"sub_region_1\":\"593\",\"date\":\"2022-12-11\",\"value\":79384,\"value_daily\":19},{\"name\":\"cases\",\"region\":\"BC\",\"sub_region_1\":\"593\",\"date\":\"2022-12-12\",\"value\":79411,\"value_daily\":27},{\"name\":\"cases\",\"region\":\"BC\",\"sub_region_1\":\"593\",\"date\":\"2022-12-13\",\"value\":79435,\"value_daily\":24},{\"name\":\"cases\",\"region\":\"BC\",\"sub_region_1\":\"593\",\"date\":\"2022-12-14\",\"value\":79457,\"value_daily\":22},{\"name\":\"cases\",\"region\":\"BC\",\"sub_region_1\":\"593\",\"date\":\"2022-12-15\",\"value\":79476,\"value_daily\":19},{\"name\":\"cases\",\"region\":\"BC\",\"sub_region_1\":\"593\",\"date\":\"2022-12-16\",\"value\":79498,\"value_daily\":22},{\"name\":\"cases\",\"region\":\"BC\",\"sub_region_1\":\"593\",\"date\":\"2022-12-17\",\"value\":79512,\"value_daily\":14},{\"name\":\"cases\",\"region\":\"BC\",\"sub_region_1\":\"593\",\"date\":\"2022-12-18\",\"value\":79532,\"value_daily\":20},{\"name\":\"cases\",\"region\":\"BC\",\"sub_region_1\":\"593\",\"date\":\"2022-12-19\",\"value\":79552,\"value_daily\":20},{\"name\":\"cases\",\"region\":\"BC\",\"sub_region_1\":\"593\",\"date\":\"2022-12-20\",\"value\":79576,\"value_daily\":24},{\"name\":\"cases\",\"region\":\"BC\",\"sub_region_1\":\"593\",\"date\":\"2022-12-21\",\"value\":79594,\"value_daily\":18},{\"name\":\"cases\",\"region\":\"BC\",\"sub_region_1\":\"593\",\"date\":\"2022-12-22\",\"value\":79630,\"value_daily\":36},{\"name\":\"cases\",\"region\":\"BC\",\"sub_region_1\":\"593\",\"date\":\"2022-12-23\",\"value\":79650,\"value_daily\":20},{\"name\":\"cases\",\"region\":\"BC\",\"sub_region_1\":\"593\",\"date\":\"2022-12-24\",\"value\":79679,\"value_daily\":29},{\"name\":\"cases\",\"region\":\"BC\",\"sub_region_1\":\"593\",\"date\":\"2022-12-25\",\"value\":79705,\"value_daily\":26},{\"name\":\"cases\",\"region\":\"BC\",\"sub_region_1\":\"593\",\"date\":\"2022-12-26\",\"value\":79735,\"value_daily\":30},{\"name\":\"cases\",\"region\":\"BC\",\"sub_region_1\":\"593\",\"date\":\"2022-12-27\",\"value\":79772,\"value_daily\":37},{\"name\":\"cases\",\"region\":\"BC\",\"sub_region_1\":\"593\",\"date\":\"2022-12-28\",\"value\":79791,\"value_daily\":19},{\"name\":\"cases\",\"region\":\"BC\",\"sub_region_1\":\"593\",\"date\":\"2022-12-29\",\"value\":79828,\"value_daily\":37},{\"name\":\"cases\",\"region\":\"BC\",\"sub_region_1\":\"593\",\"date\":\"2022-12-30\",\"value\":79863,\"value_daily\":35},{\"name\":\"cases\",\"region\":\"BC\",\"sub_region_1\":\"593\",\"date\":\"2022-12-31\",\"value\":79887,\"value_daily\":24},{\"name\":\"cases\",\"region\":\"BC\",\"sub_region_1\":\"593\",\"date\":\"2023-01-01\",\"value\":79913,\"value_daily\":26},{\"name\":\"cases\",\"region\":\"BC\",\"sub_region_1\":\"593\",\"date\":\"2023-01-02\",\"value\":79933,\"value_daily\":20},{\"name\":\"cases\",\"region\":\"BC\",\"sub_region_1\":\"593\",\"date\":\"2023-01-03\",\"value\":79949,\"value_daily\":16},{\"name\":\"cases\",\"region\":\"BC\",\"sub_region_1\":\"593\",\"date\":\"2023-01-04\",\"value\":79969,\"value_daily\":20},{\"name\":\"cases\",\"region\":\"BC\",\"sub_region_1\":\"593\",\"date\":\"2023-01-05\",\"value\":79993,\"value_daily\":24},{\"name\":\"cases\",\"region\":\"BC\",\"sub_region_1\":\"593\",\"date\":\"2023-01-06\",\"value\":80011,\"value_daily\":18},{\"name\":\"cases\",\"region\":\"BC\",\"sub_region_1\":\"593\",\"date\":\"2023-01-07\",\"value\":80029,\"value_daily\":18}]},\"version\":\"2023-01-14 10:08 EST\"}\n"
          ]
        }
      ],
      "source": [
        "startDate = datetime.date(year=2022, month=11, day=1).isoformat() # yyyy-mm-dd\n",
        "hruid = '593' # the hruid from https://github.com/ccodwg/CovidTimelineCanada/blob/main/geo/hr.csv\n",
        "query = f'https://api.opencovid.ca/timeseries?stat=cases&loc={hruid}&geo=hr&hr_names=hruid&after={startDate}'\n",
        "\n",
        "response = requests.request(\"GET\", query, headers={}, data={})\n",
        "print('Response data type:', type(response.text))\n",
        "print(response.text)"
      ],
      "metadata": {
        "pycharm": {
          "name": "#%%\n"
        },
        "id": "Al2T68b2BH3p",
        "colab": {
          "base_uri": "https://localhost:8080/"
        },
        "outputId": "c432fa99-1335-432f-863c-5cf549280a7e"
      }
    },
    {
      "cell_type": "markdown",
      "source": [
        "Notice that the response looks like a dictionary, but is actually just a string of text (most data is exchanged on the web as plain text!).  This particular data format is called \"[JSON](https://en.wikipedia.org/wiki/JSON)\" \n",
        "\n",
        "The `json.loads` function \"parses\" such text and loads the data into a dictionary..."
      ],
      "metadata": {
        "collapsed": false,
        "pycharm": {
          "name": "#%% md\n"
        },
        "id": "np4HQTmABH3q"
      }
    },
    {
      "cell_type": "code",
      "execution_count": 3,
      "outputs": [
        {
          "output_type": "stream",
          "name": "stdout",
          "text": [
            "{'data': {'cases': [{'date': '2022-11-01',\n",
            "                     'name': 'cases',\n",
            "                     'region': 'BC',\n",
            "                     'sub_region_1': '593',\n",
            "                     'value': 78661,\n",
            "                     'value_daily': 13},\n",
            "                    {'date': '2022-11-02',\n",
            "                     'name': 'cases',\n",
            "                     'region': 'BC',\n",
            "                     'sub_region_1': '593',\n",
            "                     'value': 78676,\n",
            "                     'value_daily': 15},\n",
            "                    {'date': '2022-11-03',\n",
            "                     'name': 'cases',\n",
            "                     'region': 'BC',\n",
            "                     'sub_region_1': '593',\n",
            "                     'value': 78682,\n",
            "                     'value_daily': 6},\n",
            "                    {'date': '2022-11-04',\n",
            "                     'name': 'cases',\n",
            "                     'region': 'BC',\n",
            "                     'sub_region_1': '593',\n",
            "                     'value': 78699,\n",
            "                     'value_daily': 17},\n",
            "                    {'date': '2022-11-05',\n",
            "                     'name': 'cases',\n",
            "                     'region': 'BC',\n",
            "                     'sub_region_1': '593',\n",
            "                     'value': 78716,\n",
            "                     'value_daily': 17},\n",
            "                    {'date': '2022-11-06',\n",
            "                     'name': 'cases',\n",
            "                     'region': 'BC',\n",
            "                     'sub_region_1': '593',\n",
            "                     'value': 78727,\n",
            "                     'value_daily': 11},\n",
            "                    {'date': '2022-11-07',\n",
            "                     'name': 'cases',\n",
            "                     'region': 'BC',\n",
            "                     'sub_region_1': '593',\n",
            "                     'value': 78739,\n",
            "                     'value_daily': 12},\n",
            "                    {'date': '2022-11-08',\n",
            "                     'name': 'cases',\n",
            "                     'region': 'BC',\n",
            "                     'sub_region_1': '593',\n",
            "                     'value': 78751,\n",
            "                     'value_daily': 12},\n",
            "                    {'date': '2022-11-09',\n",
            "                     'name': 'cases',\n",
            "                     'region': 'BC',\n",
            "                     'sub_region_1': '593',\n",
            "                     'value': 78769,\n",
            "                     'value_daily': 18},\n",
            "                    {'date': '2022-11-10',\n",
            "                     'name': 'cases',\n",
            "                     'region': 'BC',\n",
            "                     'sub_region_1': '593',\n",
            "                     'value': 78784,\n",
            "                     'value_daily': 15},\n",
            "                    {'date': '2022-11-11',\n",
            "                     'name': 'cases',\n",
            "                     'region': 'BC',\n",
            "                     'sub_region_1': '593',\n",
            "                     'value': 78799,\n",
            "                     'value_daily': 15},\n",
            "                    {'date': '2022-11-12',\n",
            "                     'name': 'cases',\n",
            "                     'region': 'BC',\n",
            "                     'sub_region_1': '593',\n",
            "                     'value': 78813,\n",
            "                     'value_daily': 14},\n",
            "                    {'date': '2022-11-13',\n",
            "                     'name': 'cases',\n",
            "                     'region': 'BC',\n",
            "                     'sub_region_1': '593',\n",
            "                     'value': 78828,\n",
            "                     'value_daily': 15},\n",
            "                    {'date': '2022-11-14',\n",
            "                     'name': 'cases',\n",
            "                     'region': 'BC',\n",
            "                     'sub_region_1': '593',\n",
            "                     'value': 78849,\n",
            "                     'value_daily': 21},\n",
            "                    {'date': '2022-11-15',\n",
            "                     'name': 'cases',\n",
            "                     'region': 'BC',\n",
            "                     'sub_region_1': '593',\n",
            "                     'value': 78869,\n",
            "                     'value_daily': 20},\n",
            "                    {'date': '2022-11-16',\n",
            "                     'name': 'cases',\n",
            "                     'region': 'BC',\n",
            "                     'sub_region_1': '593',\n",
            "                     'value': 78883,\n",
            "                     'value_daily': 14},\n",
            "                    {'date': '2022-11-17',\n",
            "                     'name': 'cases',\n",
            "                     'region': 'BC',\n",
            "                     'sub_region_1': '593',\n",
            "                     'value': 78896,\n",
            "                     'value_daily': 13},\n",
            "                    {'date': '2022-11-18',\n",
            "                     'name': 'cases',\n",
            "                     'region': 'BC',\n",
            "                     'sub_region_1': '593',\n",
            "                     'value': 78912,\n",
            "                     'value_daily': 16},\n",
            "                    {'date': '2022-11-19',\n",
            "                     'name': 'cases',\n",
            "                     'region': 'BC',\n",
            "                     'sub_region_1': '593',\n",
            "                     'value': 78938,\n",
            "                     'value_daily': 26},\n",
            "                    {'date': '2022-11-20',\n",
            "                     'name': 'cases',\n",
            "                     'region': 'BC',\n",
            "                     'sub_region_1': '593',\n",
            "                     'value': 78955,\n",
            "                     'value_daily': 17},\n",
            "                    {'date': '2022-11-21',\n",
            "                     'name': 'cases',\n",
            "                     'region': 'BC',\n",
            "                     'sub_region_1': '593',\n",
            "                     'value': 78978,\n",
            "                     'value_daily': 23},\n",
            "                    {'date': '2022-11-22',\n",
            "                     'name': 'cases',\n",
            "                     'region': 'BC',\n",
            "                     'sub_region_1': '593',\n",
            "                     'value': 78999,\n",
            "                     'value_daily': 21},\n",
            "                    {'date': '2022-11-23',\n",
            "                     'name': 'cases',\n",
            "                     'region': 'BC',\n",
            "                     'sub_region_1': '593',\n",
            "                     'value': 79017,\n",
            "                     'value_daily': 18},\n",
            "                    {'date': '2022-11-24',\n",
            "                     'name': 'cases',\n",
            "                     'region': 'BC',\n",
            "                     'sub_region_1': '593',\n",
            "                     'value': 79037,\n",
            "                     'value_daily': 20},\n",
            "                    {'date': '2022-11-25',\n",
            "                     'name': 'cases',\n",
            "                     'region': 'BC',\n",
            "                     'sub_region_1': '593',\n",
            "                     'value': 79061,\n",
            "                     'value_daily': 24},\n",
            "                    {'date': '2022-11-26',\n",
            "                     'name': 'cases',\n",
            "                     'region': 'BC',\n",
            "                     'sub_region_1': '593',\n",
            "                     'value': 79075,\n",
            "                     'value_daily': 14},\n",
            "                    {'date': '2022-11-27',\n",
            "                     'name': 'cases',\n",
            "                     'region': 'BC',\n",
            "                     'sub_region_1': '593',\n",
            "                     'value': 79093,\n",
            "                     'value_daily': 18},\n",
            "                    {'date': '2022-11-28',\n",
            "                     'name': 'cases',\n",
            "                     'region': 'BC',\n",
            "                     'sub_region_1': '593',\n",
            "                     'value': 79112,\n",
            "                     'value_daily': 19},\n",
            "                    {'date': '2022-11-29',\n",
            "                     'name': 'cases',\n",
            "                     'region': 'BC',\n",
            "                     'sub_region_1': '593',\n",
            "                     'value': 79129,\n",
            "                     'value_daily': 17},\n",
            "                    {'date': '2022-11-30',\n",
            "                     'name': 'cases',\n",
            "                     'region': 'BC',\n",
            "                     'sub_region_1': '593',\n",
            "                     'value': 79147,\n",
            "                     'value_daily': 18},\n",
            "                    {'date': '2022-12-01',\n",
            "                     'name': 'cases',\n",
            "                     'region': 'BC',\n",
            "                     'sub_region_1': '593',\n",
            "                     'value': 79161,\n",
            "                     'value_daily': 14},\n",
            "                    {'date': '2022-12-02',\n",
            "                     'name': 'cases',\n",
            "                     'region': 'BC',\n",
            "                     'sub_region_1': '593',\n",
            "                     'value': 79190,\n",
            "                     'value_daily': 29},\n",
            "                    {'date': '2022-12-03',\n",
            "                     'name': 'cases',\n",
            "                     'region': 'BC',\n",
            "                     'sub_region_1': '593',\n",
            "                     'value': 79210,\n",
            "                     'value_daily': 20},\n",
            "                    {'date': '2022-12-04',\n",
            "                     'name': 'cases',\n",
            "                     'region': 'BC',\n",
            "                     'sub_region_1': '593',\n",
            "                     'value': 79234,\n",
            "                     'value_daily': 24},\n",
            "                    {'date': '2022-12-05',\n",
            "                     'name': 'cases',\n",
            "                     'region': 'BC',\n",
            "                     'sub_region_1': '593',\n",
            "                     'value': 79258,\n",
            "                     'value_daily': 24},\n",
            "                    {'date': '2022-12-06',\n",
            "                     'name': 'cases',\n",
            "                     'region': 'BC',\n",
            "                     'sub_region_1': '593',\n",
            "                     'value': 79278,\n",
            "                     'value_daily': 20},\n",
            "                    {'date': '2022-12-07',\n",
            "                     'name': 'cases',\n",
            "                     'region': 'BC',\n",
            "                     'sub_region_1': '593',\n",
            "                     'value': 79303,\n",
            "                     'value_daily': 25},\n",
            "                    {'date': '2022-12-08',\n",
            "                     'name': 'cases',\n",
            "                     'region': 'BC',\n",
            "                     'sub_region_1': '593',\n",
            "                     'value': 79321,\n",
            "                     'value_daily': 18},\n",
            "                    {'date': '2022-12-09',\n",
            "                     'name': 'cases',\n",
            "                     'region': 'BC',\n",
            "                     'sub_region_1': '593',\n",
            "                     'value': 79339,\n",
            "                     'value_daily': 18},\n",
            "                    {'date': '2022-12-10',\n",
            "                     'name': 'cases',\n",
            "                     'region': 'BC',\n",
            "                     'sub_region_1': '593',\n",
            "                     'value': 79365,\n",
            "                     'value_daily': 26},\n",
            "                    {'date': '2022-12-11',\n",
            "                     'name': 'cases',\n",
            "                     'region': 'BC',\n",
            "                     'sub_region_1': '593',\n",
            "                     'value': 79384,\n",
            "                     'value_daily': 19},\n",
            "                    {'date': '2022-12-12',\n",
            "                     'name': 'cases',\n",
            "                     'region': 'BC',\n",
            "                     'sub_region_1': '593',\n",
            "                     'value': 79411,\n",
            "                     'value_daily': 27},\n",
            "                    {'date': '2022-12-13',\n",
            "                     'name': 'cases',\n",
            "                     'region': 'BC',\n",
            "                     'sub_region_1': '593',\n",
            "                     'value': 79435,\n",
            "                     'value_daily': 24},\n",
            "                    {'date': '2022-12-14',\n",
            "                     'name': 'cases',\n",
            "                     'region': 'BC',\n",
            "                     'sub_region_1': '593',\n",
            "                     'value': 79457,\n",
            "                     'value_daily': 22},\n",
            "                    {'date': '2022-12-15',\n",
            "                     'name': 'cases',\n",
            "                     'region': 'BC',\n",
            "                     'sub_region_1': '593',\n",
            "                     'value': 79476,\n",
            "                     'value_daily': 19},\n",
            "                    {'date': '2022-12-16',\n",
            "                     'name': 'cases',\n",
            "                     'region': 'BC',\n",
            "                     'sub_region_1': '593',\n",
            "                     'value': 79498,\n",
            "                     'value_daily': 22},\n",
            "                    {'date': '2022-12-17',\n",
            "                     'name': 'cases',\n",
            "                     'region': 'BC',\n",
            "                     'sub_region_1': '593',\n",
            "                     'value': 79512,\n",
            "                     'value_daily': 14},\n",
            "                    {'date': '2022-12-18',\n",
            "                     'name': 'cases',\n",
            "                     'region': 'BC',\n",
            "                     'sub_region_1': '593',\n",
            "                     'value': 79532,\n",
            "                     'value_daily': 20},\n",
            "                    {'date': '2022-12-19',\n",
            "                     'name': 'cases',\n",
            "                     'region': 'BC',\n",
            "                     'sub_region_1': '593',\n",
            "                     'value': 79552,\n",
            "                     'value_daily': 20},\n",
            "                    {'date': '2022-12-20',\n",
            "                     'name': 'cases',\n",
            "                     'region': 'BC',\n",
            "                     'sub_region_1': '593',\n",
            "                     'value': 79576,\n",
            "                     'value_daily': 24},\n",
            "                    {'date': '2022-12-21',\n",
            "                     'name': 'cases',\n",
            "                     'region': 'BC',\n",
            "                     'sub_region_1': '593',\n",
            "                     'value': 79594,\n",
            "                     'value_daily': 18},\n",
            "                    {'date': '2022-12-22',\n",
            "                     'name': 'cases',\n",
            "                     'region': 'BC',\n",
            "                     'sub_region_1': '593',\n",
            "                     'value': 79630,\n",
            "                     'value_daily': 36},\n",
            "                    {'date': '2022-12-23',\n",
            "                     'name': 'cases',\n",
            "                     'region': 'BC',\n",
            "                     'sub_region_1': '593',\n",
            "                     'value': 79650,\n",
            "                     'value_daily': 20},\n",
            "                    {'date': '2022-12-24',\n",
            "                     'name': 'cases',\n",
            "                     'region': 'BC',\n",
            "                     'sub_region_1': '593',\n",
            "                     'value': 79679,\n",
            "                     'value_daily': 29},\n",
            "                    {'date': '2022-12-25',\n",
            "                     'name': 'cases',\n",
            "                     'region': 'BC',\n",
            "                     'sub_region_1': '593',\n",
            "                     'value': 79705,\n",
            "                     'value_daily': 26},\n",
            "                    {'date': '2022-12-26',\n",
            "                     'name': 'cases',\n",
            "                     'region': 'BC',\n",
            "                     'sub_region_1': '593',\n",
            "                     'value': 79735,\n",
            "                     'value_daily': 30},\n",
            "                    {'date': '2022-12-27',\n",
            "                     'name': 'cases',\n",
            "                     'region': 'BC',\n",
            "                     'sub_region_1': '593',\n",
            "                     'value': 79772,\n",
            "                     'value_daily': 37},\n",
            "                    {'date': '2022-12-28',\n",
            "                     'name': 'cases',\n",
            "                     'region': 'BC',\n",
            "                     'sub_region_1': '593',\n",
            "                     'value': 79791,\n",
            "                     'value_daily': 19},\n",
            "                    {'date': '2022-12-29',\n",
            "                     'name': 'cases',\n",
            "                     'region': 'BC',\n",
            "                     'sub_region_1': '593',\n",
            "                     'value': 79828,\n",
            "                     'value_daily': 37},\n",
            "                    {'date': '2022-12-30',\n",
            "                     'name': 'cases',\n",
            "                     'region': 'BC',\n",
            "                     'sub_region_1': '593',\n",
            "                     'value': 79863,\n",
            "                     'value_daily': 35},\n",
            "                    {'date': '2022-12-31',\n",
            "                     'name': 'cases',\n",
            "                     'region': 'BC',\n",
            "                     'sub_region_1': '593',\n",
            "                     'value': 79887,\n",
            "                     'value_daily': 24},\n",
            "                    {'date': '2023-01-01',\n",
            "                     'name': 'cases',\n",
            "                     'region': 'BC',\n",
            "                     'sub_region_1': '593',\n",
            "                     'value': 79913,\n",
            "                     'value_daily': 26},\n",
            "                    {'date': '2023-01-02',\n",
            "                     'name': 'cases',\n",
            "                     'region': 'BC',\n",
            "                     'sub_region_1': '593',\n",
            "                     'value': 79933,\n",
            "                     'value_daily': 20},\n",
            "                    {'date': '2023-01-03',\n",
            "                     'name': 'cases',\n",
            "                     'region': 'BC',\n",
            "                     'sub_region_1': '593',\n",
            "                     'value': 79949,\n",
            "                     'value_daily': 16},\n",
            "                    {'date': '2023-01-04',\n",
            "                     'name': 'cases',\n",
            "                     'region': 'BC',\n",
            "                     'sub_region_1': '593',\n",
            "                     'value': 79969,\n",
            "                     'value_daily': 20},\n",
            "                    {'date': '2023-01-05',\n",
            "                     'name': 'cases',\n",
            "                     'region': 'BC',\n",
            "                     'sub_region_1': '593',\n",
            "                     'value': 79993,\n",
            "                     'value_daily': 24},\n",
            "                    {'date': '2023-01-06',\n",
            "                     'name': 'cases',\n",
            "                     'region': 'BC',\n",
            "                     'sub_region_1': '593',\n",
            "                     'value': 80011,\n",
            "                     'value_daily': 18},\n",
            "                    {'date': '2023-01-07',\n",
            "                     'name': 'cases',\n",
            "                     'region': 'BC',\n",
            "                     'sub_region_1': '593',\n",
            "                     'value': 80029,\n",
            "                     'value_daily': 18}]},\n",
            " 'version': '2023-01-14 10:08 EST'}\n"
          ]
        }
      ],
      "source": [
        "result = json.loads(response.text)\n",
        "pprint(result)   # pretty-print the entire data structure we got back..."
      ],
      "metadata": {
        "pycharm": {
          "name": "#%%\n"
        },
        "id": "M5wV1C_0BH3q",
        "outputId": "c4b32d74-b5b4-4fbd-cc4f-3a7e25416cfe",
        "colab": {
          "base_uri": "https://localhost:8080/"
        }
      }
    },
    {
      "cell_type": "markdown",
      "source": [
        "### Extract data items from a list of dictionaries\n",
        "Next we use \"list comprehension\" to extract the list of dates and associated cases into \"parallel lists\"\n",
        "\n",
        "Notice how we \"parse\" the date strings, using strptime, into a real date objects so they are easier to work with (format: yyyy-mm-dd)"
      ],
      "metadata": {
        "collapsed": false,
        "pycharm": {
          "name": "#%% md\n"
        },
        "id": "dAXX9kuZBH3r"
      }
    },
    {
      "cell_type": "code",
      "execution_count": 4,
      "outputs": [
        {
          "output_type": "stream",
          "name": "stdout",
          "text": [
            "Dates: ['2022-11-01', '2022-11-02', '2022-11-03', '2022-11-04', '2022-11-05', '2022-11-06', '2022-11-07', '2022-11-08', '2022-11-09', '2022-11-10']\n",
            "Cases: [13, 15, 6, 17, 17, 11, 12, 12, 18, 15]\n",
            "Zipped: [('2022-11-01', 13), ('2022-11-02', 15), ('2022-11-03', 6), ('2022-11-04', 17), ('2022-11-05', 17), ('2022-11-06', 11), ('2022-11-07', 12), ('2022-11-08', 12), ('2022-11-09', 18), ('2022-11-10', 15)]\n"
          ]
        }
      ],
      "source": [
        "cases = result['data']['cases']\n",
        "case_dates = [daily['date'] for daily in cases]     # List Comprehension #1: extract the case date strings\n",
        "n_cases = [daily['value_daily'] for daily in cases] # List Comprehension #2:  extract the case counts\n",
        "\n",
        "print('Dates:', case_dates[:10])      # do you recall the \"slice\" operation?  If not, look it up in the ThinkCsPy textbook!\n",
        "print('Cases:', n_cases[:10])\n",
        "print('Zipped:', list(zip(case_dates[:10], n_cases[:10])))  # zip is a very handy function to \"zip\" 2 lists together like a zipper..."
      ],
      "metadata": {
        "pycharm": {
          "name": "#%%\n"
        },
        "id": "JOFe4vNCBH3s",
        "outputId": "7d8f9434-15a0-4a29-9a11-19c8d4ff9ff7",
        "colab": {
          "base_uri": "https://localhost:8080/"
        }
      }
    },
    {
      "cell_type": "markdown",
      "source": [
        "### Datetime.date\n",
        "Working with date stings is a pain.  So many formats!  Even within Canada, you might see:\n",
        "\"Jan. 9, 2023\" or \"09-01-2023\" or \"2023-01-09\" or ....\n",
        "Imagine trying to do a calculation like \"how many days between these 2 dates\"!!\n",
        "The build-in `datetime` package makes working with dates much easier.\n",
        "  * step 1: \"parse\" the date string data (`strptime` ==  \"string-parse-datetime object\")\n",
        "  * step 2: get the date part (i.e., without the time)"
      ],
      "metadata": {
        "collapsed": false,
        "pycharm": {
          "name": "#%% md\n"
        },
        "id": "8IRXjqHekygu"
      }
    },
    {
      "cell_type": "code",
      "execution_count": 5,
      "outputs": [
        {
          "output_type": "stream",
          "name": "stdout",
          "text": [
            "[datetime.date(2022, 11, 1), datetime.date(2022, 11, 2), datetime.date(2022, 11, 3), datetime.date(2022, 11, 4), datetime.date(2022, 11, 5), datetime.date(2022, 11, 6), datetime.date(2022, 11, 7), datetime.date(2022, 11, 8), datetime.date(2022, 11, 9), datetime.date(2022, 11, 10)]\n"
          ]
        }
      ],
      "source": [
        "# parse a datetime omakebject from a string by supplying the correct \"format\" string.\n",
        "datetime_objects = [datetime.datetime.strptime(date, '%Y-%m-%d') for date in case_dates]  # List Comprehension #3\n",
        "# but we only need the \"date\" part...\n",
        "dates = [dt.date() for dt in datetime_objects]\n",
        "print(dates[:10])"
      ],
      "metadata": {
        "pycharm": {
          "name": "#%%\n"
        },
        "id": "TUg2m7NLkygu",
        "outputId": "49791ad0-23f4-44d3-f02d-14d22f2fe0da",
        "colab": {
          "base_uri": "https://localhost:8080/"
        }
      }
    },
    {
      "cell_type": "markdown",
      "source": [
        "## Exercise 1\n",
        "\n",
        "In the code cell below, re-write each of the 3 \"List Comprehensions\" in the code cells above as a loop so you understand how they work.\n",
        "\n",
        "Notice that a \"list comprehension\" is a compact way to write a \"list accumulator\" algorithm (and more efficient too!)"
      ],
      "metadata": {
        "collapsed": false,
        "pycharm": {
          "name": "#%% md\n"
        },
        "id": "koVKiju9BH3s"
      }
    },
    {
      "cell_type": "code",
      "execution_count": 6,
      "outputs": [
        {
          "output_type": "stream",
          "name": "stdout",
          "text": [
            "Dates: ['2022-11-01', '2022-11-02', '2022-11-03', '2022-11-04', '2022-11-05', '2022-11-06', '2022-11-07', '2022-11-08', '2022-11-09', '2022-11-10']\n",
            "Cases: [13, 15, 6, 17, 17, 11, 12, 12, 18, 15]\n",
            "Zipped: [('2022-11-01', 13), ('2022-11-02', 15), ('2022-11-03', 6), ('2022-11-04', 17), ('2022-11-05', 17), ('2022-11-06', 11), ('2022-11-07', 12), ('2022-11-08', 12), ('2022-11-09', 18), ('2022-11-10', 15)]\n",
            "[datetime.date(2022, 11, 1), datetime.date(2022, 11, 2), datetime.date(2022, 11, 3), datetime.date(2022, 11, 4), datetime.date(2022, 11, 5), datetime.date(2022, 11, 6), datetime.date(2022, 11, 7), datetime.date(2022, 11, 8), datetime.date(2022, 11, 9), datetime.date(2022, 11, 10)]\n"
          ]
        }
      ],
      "source": [
        "# Your code here\n",
        "\n",
        "# First \n",
        "\n",
        "cases = result['data']['cases']\n",
        "\n",
        "case_dates = []\n",
        "for daily in cases:\n",
        "  case_dates.append(daily['date']) # grab  the 'date' key from the cases array\n",
        "  \n",
        "#Second\n",
        "n_cases = []\n",
        "for daily in cases:\n",
        "  n_cases.append(daily['value_daily'])\n",
        "\n",
        "print('Dates:', case_dates[:10])      # do you recall the \"slice\" operation?  If not, look it up in the ThinkCsPy textbook!\n",
        "print('Cases:', n_cases[:10])\n",
        "print('Zipped:', list(zip(case_dates[:10], n_cases[:10])))  # zip is a very handy function to \"zip\" 2 lists together like a zipper...\n",
        "\n",
        "\n",
        "\n",
        "# Third\n",
        "\n",
        "# parse a datetime object from a string by supplying the correct \"format\" string.\n",
        "datetime_objects = []\n",
        "for date in case_dates:\n",
        "  datetime_objects.append(datetime.datetime.strptime(date, '%Y-%m-%d'))\n",
        "# but we only need the \"date\" part...\n",
        "dates = []\n",
        "for dt in datetime_objects:\n",
        "  dates.append(dt.date())\n",
        "print(dates[:10])"
      ],
      "metadata": {
        "pycharm": {
          "name": "#%%\n"
        },
        "id": "aa5xLcWEBH3t",
        "colab": {
          "base_uri": "https://localhost:8080/"
        },
        "outputId": "0b6210f8-b841-44eb-d84b-fe62feb5ff33"
      }
    },
    {
      "cell_type": "markdown",
      "source": [
        "### Generating a plot\n",
        "\n",
        "Finally, we'll plot the (dates,cases) data as a nice x-y line graph.\n",
        "\n",
        "The code to format the x-axis labels is taken from https://matplotlib.org/stable/gallery/ticks/date_concise_formatter.html"
      ],
      "metadata": {
        "collapsed": false,
        "id": "2ow28BuTBH3u"
      }
    },
    {
      "cell_type": "code",
      "execution_count": 7,
      "outputs": [
        {
          "output_type": "display_data",
          "data": {
            "text/plain": [
              "<Figure size 432x288 with 1 Axes>"
            ],
            "image/png": "[encoded data removed]"
          },
          "metadata": {
            "needs_background": "light"
          }
        }
      ],
      "source": [
        "def format_date_axis(ax):\n",
        "  \"\"\" format the dates shown on the x-axis of given axes, ax  \"\"\"\n",
        "  locator = mdates.AutoDateLocator(minticks=10, maxticks=20)\n",
        "  formatter = mdates.ConciseDateFormatter(locator)\n",
        "  ax.xaxis.set_major_locator(locator)\n",
        "  ax.xaxis.set_major_formatter(formatter)\n",
        "\n",
        "fig, ax = plt.subplots()\n",
        "format_date_axis(ax)\n",
        "ax.plot(dates, n_cases, label='Daily Cases')  # Plot some data on the axes.\n",
        "ax.set_xlabel('Date')  # Add an x-label to the axes.\n",
        "ax.set_ylabel('confirmed casess')  # Add a y-label to the axes.\n",
        "ax.set_title(\"Covid-19 case counts for BC\")  # Add a title to the axes.\n",
        "ax.legend();"
      ],
      "metadata": {
        "pycharm": {
          "name": "#%%\n"
        },
        "id": "FgwPH8mTBH3v",
        "outputId": "a4762554-e483-464c-d591-805897e04f68",
        "colab": {
          "base_uri": "https://localhost:8080/",
          "height": 295
        }
      }
    },
    {
      "cell_type": "markdown",
      "source": [
        "## Exercise 2\n",
        "\n",
        "Repeat the analysis above, but this time only for Vancouver Coastal Health Region.\n",
        "\n",
        " * Try to modify as little code as you can (just need to change the \"query\"), and re-run the analysis\n",
        " * You can get the ***hruid*** location code for each health region here:  https://github.com/ccodwg/CovidTimelineCanada/blob/main/geo/hr.csv\n",
        " * Can you generalize the code in the 2nd code cell to make it easier to repeat the analysis for different locations?  What about for different dates?\n",
        "\n",
        "## OPTIONAL - Take your skills to the next level...\n",
        "\n",
        "## Exercise 3\n",
        "\n",
        "Notice that the data plot looks quite erratic.  These swings most likely represent artifacts attributable to the reporting process rather than actual changes in infection rates.\n",
        "\n",
        " * One way to fix this is is to \"smooth\" the date with a \"7-day rolling average\".\n",
        "Each day, we take the average of the previous 7 days cases.\n",
        " * Add new code cell below, compute the 7-day rolling average for each day from the cases list.\n",
        " * Create a plot to display the rolling average data and compare your plot with the one produced above.\n",
        "\n",
        " Hints: you are free to do this however you like, but a quite elegant solution uses list comprehension, range, and slices"
      ],
      "metadata": {
        "collapsed": false,
        "id": "qqeTORnvBH3v"
      }
    },
    {
      "cell_type": "code",
      "execution_count": 9,
      "outputs": [
        {
          "output_type": "display_data",
          "data": {
            "text/plain": [
              "<Figure size 432x288 with 1 Axes>"
            ],
            "image/png": "[encoded data removed]"
          },
          "metadata": {
            "needs_background": "light"
          }
        }
      ],
      "source": [
        "def format_date_axis(ax):\n",
        "  \"\"\" format the dates shown on the x-axis of given axes, ax  \"\"\"\n",
        "  locator = mdates.AutoDateLocator(minticks=10, maxticks=20)\n",
        "  formatter = mdates.ConciseDateFormatter(locator)\n",
        "  ax.xaxis.set_major_locator(locator)\n",
        "  ax.xaxis.set_major_formatter(formatter)\n",
        "\n",
        "fig, ax = plt.subplots()\n",
        "format_date_axis(ax)\n",
        "ax.plot(dates, n_cases, label='Daily Cases')  # Plot some data on the axes.\n",
        "ax.set_xlabel('Date')  # Add an x-label to the axes.\n",
        "ax.set_ylabel('confirmed casess')  # Add a y-label to the axes.\n",
        "ax.set_title(\"Covid-19 case counts for BC\")  # Add a title to the axes.\n",
        "ax.legend();"
      ],
      "metadata": {
        "pycharm": {
          "name": "#%%\n"
        },
        "id": "TmCpheRZkygw",
        "colab": {
          "base_uri": "https://localhost:8080/",
          "height": 295
        },
        "outputId": "58889847-5c85-4eb1-83db-f569f0e27ef4"
      }
    }
  ],
  "metadata": {
    "kernelspec": {
      "display_name": "Python 3",
      "language": "python",
      "name": "python3"
    },
    "language_info": {
      "codemirror_mode": {
        "name": "ipython",
        "version": 2
      },
      "file_extension": ".py",
      "mimetype": "text/x-python",
      "name": "python",
      "nbconvert_exporter": "python",
      "pygments_lexer": "ipython2",
      "version": "2.7.6"
    },
    "colab": {
      "provenance": []
    }
  },
  "nbformat": 4,
  "nbformat_minor": 0
}