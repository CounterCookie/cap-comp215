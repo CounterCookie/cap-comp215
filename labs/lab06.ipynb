{
 "cells": [
  {
   "cell_type": "markdown",
   "metadata": {
    "pycharm": {
     "name": "#%% md\n"
    }
   },
   "source": [
    "COMP 215 - LAB 6 (Game of Life)\n",
    "-----------------------------------------------\n",
    "#### Name: Shayan Heidari\n",
    "#### Date: 2023-03-05\n",
    "\n",
    "This lab exercise is an introduction to [Conway's Game of Life](https://en.wikipedia.org/wiki/Conway%27s_Game_of_Life) discovered and studied by [John Conway](https://en.wikipedia.org/wiki/John_Horton_Conway).\n",
    "\n",
    "**New Python concepts**:\n",
    "   * 2D numpy [array](https://numpy.org/doc/stable/reference/generated/numpy.array.html)\n",
    "   * basic [array operations](https://www.pluralsight.com/guides/overview-basic-numpy-operations)\n",
    "\n",
    "**New Computation concepts**:\n",
    "   * [2D sliding dot product](https://docs.scipy.org/doc/scipy/reference/generated/scipy.signal.correlate2d.html)\n",
    "   * [Animation](https://matplotlib.org/stable/api/animation_api.html)\n",
    "\n",
    "**Credits**:\n",
    "    Code examples based on [Think Complexity, 2nd edition](https://thinkcomplex.com).\n",
    "    Copyright 2016 Allen Downey, [MIT License](http://opensource.org/licenses/MIT)\n",
    "\n",
    "As usual, the first code cell simply imports all the modules we'll be using..."
   ]
  },
  {
   "cell_type": "code",
   "execution_count": 1,
   "metadata": {
    "collapsed": false,
    "jupyter": {
     "outputs_hidden": false
    },
    "pycharm": {
     "name": "#%%\n"
    }
   },
   "outputs": [],
   "source": [
    "import time\n",
    "import matplotlib\n",
    "import matplotlib.pyplot as plt\n",
    "from matplotlib import animation\n",
    "import numpy as np\n",
    "import random\n",
    "from pprint import pprint\n",
    "from scipy.signal import correlate2d\n",
    "\n",
    "%matplotlib inline\n",
    "# Configure matplotlib's animation library to work in the browser.\n",
    "matplotlib.rc('animation', html='jshtml')"
   ]
  },
  {
   "cell_type": "markdown",
   "metadata": {
    "pycharm": {
     "name": "#%% md\n"
    }
   },
   "source": [
    "A reusable function for plotting 2D numpy.array as an image..."
   ]
  },
  {
   "cell_type": "code",
   "execution_count": 2,
   "metadata": {
    "collapsed": false,
    "jupyter": {
     "outputs_hidden": false
    },
    "pycharm": {
     "name": "#%%\n"
    }
   },
   "outputs": [],
   "source": [
    "DEFAULT_IMSHOW_OPTIONS = dict(\n",
    "    cmap = 'Blues',\n",
    "    interpolation='none',\n",
    "    origin='upper',\n",
    ")\n",
    "\n",
    "def plot_2D_array(array, axes=None, title='', **options):\n",
    "    \"\"\" Plot the 2D array as an image on the given axes  1's will be dark blue, 0's will be light blue. \"\"\"\n",
    "    axes = axes or plt.gca()   # If not axes are provided, draw on current axes\n",
    "    axes.set_title(title)\n",
    "    axes.set_xticks([], [])  # remove axes tick marks\n",
    "    axes.set_yticks([], [])\n",
    "    options = {**DEFAULT_IMSHOW_OPTIONS, **options}\n",
    "    axes.imshow(array, **options)"
   ]
  },
  {
   "cell_type": "markdown",
   "metadata": {
    "pycharm": {
     "name": "#%% md\n"
    }
   },
   "source": [
    "## Life Fundamentals\n",
    "Both the textbook and our week6 notebooks develop some fundamental operations for simulating the Game of Life.\n",
    "Some of the code from `week6.ipynb` is reproduced here without deriving all the ideas - review `week6.ipynb` notebook for the full story.\n",
    "The sliding dot product algorithm in `step` is implemented with [scipy.signal.correlate2d](https://docs.scipy.org/doc/scipy/reference/generated/scipy.signal.correlate2d.html).  It's behaviour is identical to the derivation in `week6.ipynb`.\n",
    "\n",
    "#### Notes\n",
    "* we use `correlate2d(state, kernel, mode='same', boundary='wrap')` to pad state matrix with 1 value around perimeter from the opposite side of the matrix.\n",
    "* since the rule is a 1D `np.array`, we use \"vector indexing\" here to set the 'live' state transitions:  `next_state[[3, 12, 13]] = 1`"
   ]
  },
  {
   "cell_type": "code",
   "execution_count": 3,
   "metadata": {
    "collapsed": false,
    "jupyter": {
     "outputs_hidden": false
    },
    "pycharm": {
     "name": "#%%\n"
    }
   },
   "outputs": [],
   "source": [
    "class Life2D:\n",
    "    \"\"\" An basic 2D Cellular Automata that implementes Conway's Game of Life \"\"\"\n",
    "    kernel = np.array([[1, 1, 1],\n",
    "                       [1, 10, 1],\n",
    "                       [1, 1, 1]])\n",
    "\n",
    "    next_state = np.zeros(19, dtype=np.uint8)\n",
    "    next_state[[3, 12, 13]] = 1\n",
    "\n",
    "    def __init__(self, n_rows, n_cols=None):\n",
    "        \"\"\" Construct a n_rows x n_cols 2D CA \"\"\"\n",
    "        n_cols = n_cols or n_rows  # i.e., n_cols if n_cols is not None and n_cols != 0 else n_rows\n",
    "        self.state = np.zeros(shape=(n_rows, n_cols), dtype=np.uint8)\n",
    "\n",
    "    def step(self):\n",
    "        \"\"\"Executes one time step. \"\"\"\n",
    "        transitions = correlate2d(self.state, self.kernel, mode='same', boundary='wrap')\n",
    "        self.state = self.next_state[transitions]\n",
    "\n",
    "    def draw(self, axes=None, step=''):\n",
    "        axes = axes or plt.gca()   # use pyplot's current axes if none are provided.\n",
    "        plot_2D_array(self.state, axes, title=f\"Conway's Game of Life {step}\")\n"
   ]
  },
  {
   "cell_type": "markdown",
   "metadata": {
    "pycharm": {
     "name": "#%% md\n"
    }
   },
   "source": [
    "### Visualizing a 2D simulation model\n",
    "For 1D CAs, we could use a 2D image to visualize the CA progression over time.\n",
    "For 2D CAs, we could try using time as a 3rd axis to generate a 3D visualziation, but without VR, its hard to explore a 3D visualization.\n",
    "Instead, we'll use a simple 2D [\"stop motion\" animation](https://en.wikipedia.org/wiki/Animation).\n",
    "Here is a generic class that animates any 2D model that provides step() and draw() methods, and uses matplotlib to render its state.\n",
    "\n",
    "See [Matplotlib animation in Jupyter](https://www.allendowney.com/blog/2019/07/25/matplotlib-animation-in-jupyter/) by our textbook author for a discussion of the pros and cons of various animation techniques in jupyter notebooks."
   ]
  },
  {
   "cell_type": "code",
   "execution_count": 4,
   "metadata": {
    "collapsed": false,
    "jupyter": {
     "outputs_hidden": false
    },
    "pycharm": {
     "name": "#%%\n"
    }
   },
   "outputs": [],
   "source": [
    "class Animation2D:\n",
    "    \"\"\"\n",
    "      Animates any 2D model with a step() method and a draw() method, using matplotlib\n",
    "      model.step() should take no parameters - just step the model forward one step.\n",
    "      model.draw() should take 2 parameters, the matpltolib axes to draw on and an integer step number\n",
    "    \"\"\"\n",
    "\n",
    "    def __init__(self, model, frames=50, figsize=(8, 8)):\n",
    "        \"\"\"\n",
    "        :param model: the simulation object to animate, with step() and draw(axes, step) methods\n",
    "        :param frames: number of animation frames to generate\n",
    "        \"\"\"\n",
    "        self.model = model\n",
    "        self.frames = frames\n",
    "        self.fig, self.ax = plt.subplots(figsize=figsize)\n",
    "\n",
    "    def animation_step(self, step):\n",
    "        \"\"\" Step the model forward and draw the plot \"\"\"\n",
    "        if step > 0:\n",
    "            self.model.step()\n",
    "        self.model.draw(self.ax, step=step)\n",
    "\n",
    "    def show(self):\n",
    "        \"\"\" return the matplotlib animation object, ready for display \"\"\"\n",
    "        anim = animation.FuncAnimation(self.fig, self.animation_step, frames=self.frames)\n",
    "        plt.close()  # this ensures the last frame is not shown as a separate plot\n",
    "        return anim\n",
    "\n",
    "    def animate(self, interval=None):\n",
    "        \"\"\" Animate the model simulation directly in the notebook display block \"\"\"\n",
    "        from IPython.display import clear_output\n",
    "        try:\n",
    "            for i in range(self.frames):\n",
    "                clear_output(wait=True)  # clear the IPython display\n",
    "                self.ax.clear()          # clear old image from the axes (fixes a performance issue)\n",
    "                plt.figure(self.fig)     # add the figure back to pyplot ** sigh **\n",
    "                self.animation_step(i)\n",
    "                plt.show()               # show the current animation frame (pyplot then closes and throws away figure ** sigh **)\n",
    "                if interval:\n",
    "                    time.sleep(interval)\n",
    "        except KeyboardInterrupt:\n",
    "            pass"
   ]
  },
  {
   "cell_type": "markdown",
   "metadata": {
    "pycharm": {
     "name": "#%% md\n"
    }
   },
   "source": [
    "### Sample usage\n",
    "Animate a single glider..."
   ]
  },
  {
   "cell_type": "code",
   "execution_count": 246,
   "metadata": {
    "collapsed": false,
    "jupyter": {
     "outputs_hidden": false
    },
    "pycharm": {
     "name": "#%%\n"
    }
   },
   "outputs": [
    {
     "data": {
      "image/png": "[encoded data removed]",
      "text/plain": [
       "<Figure size 800x800 with 1 Axes>"
      ]
     },
     "metadata": {},
     "output_type": "display_data"
    }
   ],
   "source": [
    "size = 10\n",
    "life = Life2D(size)\n",
    "glider = np.array([[0, 1, 0], [0, 0, 1], [1, 1, 1]], dtype=np.uint8)\n",
    "life.state[1:4, 2:5] = glider             # bad idea to alter an objects state directly!  We'll improve it in Ex. 3\n",
    "gol = Animation2D(life, frames=20)\n",
    "gol.animate()"
   ]
  },
  {
   "cell_type": "markdown",
   "metadata": {
    "pycharm": {
     "name": "#%% md\n"
    }
   },
   "source": [
    "## Exercise 1:  Enumerate all Elementary 2D CA's\n",
    " * how many unique states are there for a 3x3 (9 cell) neighbourhood?\n",
    " * how many unique “rules” are there? (where a rule provides a mapping for each possible neighbourhood state to the output for the centre cell)\n",
    " * how does this number compare, for example, to the [number of atoms in the observable universe?](https://en.wikipedia.org/wiki/Observable_universe#Matter_content%E2%80%94number_of_atoms)\n",
    " * would it be a reasonable goal to conduct an experiment like Wolfram’s for 2D CA’s?\n",
    " * propose a numbering scheme for these rules, analogous to Wolfram’s rule numbers\n",
    " * how might we go about determining which rule number corresponds to Conway’s GoL?\n",
    "   (I’m not asking for the number, but rather for a method you could use to find it.)"
   ]
  },
  {
   "cell_type": "markdown",
   "metadata": {
    "jupyter": {
     "outputs_hidden": false
    },
    "pycharm": {
     "name": "#%%\n"
    }
   },
   "source": [
    "# Solutions for Ex. 1\n",
    "* There are 2^9 possible states for that grid. 512\n",
    "* 2 ^ 512 possible rules. incomputable. e154\n",
    "* Atoms in the observable universe are e80. possiblities for a 3x3 is more than double of that\n",
    "* It is only the starting state of the GOL that matters; wolfram has explicit explanation about every rule that he has discovered and then classified. Sort of reasonable. Only for the starting state.\n",
    "* The rules are, if a cell is alive, and is surrounded by only 2 or 3 neighors, it stays alive and if it's dead and surrounded by anything other than 3 neighbors, it stays dead. This can easily be put into the array as discussed in the textbook with a centre of 10 kernel array. It's even easier to give it a rule than wolfram's\n",
    "* They can't really correspond since it's a 2d array and the states are dynamic. But the closest we can get is to run wolfram's every single rule and compare it to the development of a GOL starting state. Or that it's just a wolfram rule number by converting the 18 bit binary into decimal."
   ]
  },
  {
   "cell_type": "markdown",
   "metadata": {
    "pycharm": {
     "name": "#%% md\n"
    }
   },
   "source": [
    "## Exercise 2: random_life\n",
    "Extend the Life2D class defined above to allow the game to be initialized with a random start state.\n",
    "The liklihood of any given cell being initialized to \"alive\" is given by $p$.\n",
    "*Hint*: we did this exact exercise for a 1D array in lab 5"
   ]
  },
  {
   "cell_type": "code",
   "execution_count": 6,
   "metadata": {
    "collapsed": false,
    "jupyter": {
     "outputs_hidden": false
    },
    "pycharm": {
     "name": "#%%\n"
    }
   },
   "outputs": [],
   "source": [
    "# Solution for Ex. 2\n",
    "\n",
    "class BetterLife2D(Life2D):\n",
    "    \"\"\" Improvements on the basic Life2D model \"\"\"\n",
    "\n",
    "    def randomize_state(self, p):\n",
    "        \"\"\" Randomize the state of this GoL, where probability of a \"live\" cell is p \"\"\"\n",
    "        rows, cols = self.state.shape\n",
    "        for r in range(rows):\n",
    "            for c in range(cols):\n",
    "                self.state[r, c] = 1 if (random.random() < p) else 0 # Simple\n",
    "    def load_pattern(self, x, y, pattern):\n",
    "        self.state[x, y] = pattern\n",
    "    \n",
    "\n",
    "def random_life(n_rows, n_cols=None, p=0.5):\n",
    "    \"\"\" Return a Life2D object of given dimensions with initial randomized state where \"live\" cells have probability p \"\"\"\n",
    "    life = BetterLife2D(n_rows)\n",
    "    life.randomize_state(p)\n",
    "    return life\n",
    "\n",
    "#l = random_life(20, 0.5)\n",
    "#l.draw()\n"
   ]
  },
  {
   "cell_type": "markdown",
   "metadata": {
    "pycharm": {
     "name": "#%% md\n"
    }
   },
   "source": [
    "### Experiment\n",
    "Run a small experiment to see if you can identify any relationship between $p$, the probability of a live cell in the initial grid, and the time it takes for the GoL pattern to stabilize."
   ]
  },
  {
   "cell_type": "code",
   "execution_count": null,
   "metadata": {
    "collapsed": false,
    "jupyter": {
     "outputs_hidden": false
    },
    "pycharm": {
     "name": "#%%\n"
    }
   },
   "outputs": [],
   "source": [
    "# write code for your experiment here\n",
    "size = 20\n",
    "for i in np.arange(0.1, 1, 0.1):\n",
    "    life = random_life(size, i)\n",
    "    gol = Animation2D(life, frames=200)\n",
    "    gol.animate(interval=None)\n",
    "    print(i)\n",
    "    time.sleep(2)\n"
   ]
  },
  {
   "cell_type": "markdown",
   "metadata": {},
   "source": [
    "probability, steps:\n",
    "* 0.1, >200\n",
    "* 0.2, ~80\n",
    "* 0.3, ~130\n",
    "* 0.4, ~80\n",
    "* 0.5, > 200\n",
    "* 0.6, ~197\n",
    "* 0.7, ~50\n",
    "* 0.8, ~60\n",
    "* 0.9, >200\n",
    "\n",
    "The results are not concrete but if anything, they're oscillating."
   ]
  },
  {
   "cell_type": "markdown",
   "metadata": {
    "pycharm": {
     "name": "#%% md\n"
    }
   },
   "source": [
    "## Exercise 3: Load Patterns\n",
    "People have discovered many interesting [\"patterns\"](https://conwaylife.com/wiki/Category:Patterns) that exhibit various types of behaviours.\n",
    "A \"pattern\" is just a small 2D array.\n",
    " 1. Develop a function that returns a 2D array containing the patterns defined by a single string; and\n",
    " 2. Add an `load_pattern(x, y, pattern)` method to your BetterLife2D class above to insert patterns into the Life state array\n",
    "    *Tip*: you can [assign an entire 2D slice of a numpy array](https://www.nickmccullum.com/advanced-python/numpy-indexing-assignment/) in a single assignment statement!   See example in the Sample Usage block above. Try it!"
   ]
  },
  {
   "cell_type": "code",
   "execution_count": 555,
   "metadata": {
    "collapsed": false,
    "jupyter": {
     "outputs_hidden": false
    },
    "pycharm": {
     "name": "#%%\n"
    }
   },
   "outputs": [
    {
     "data": {
      "image/png": "[encoded data removed]",
      "text/plain": [
       "<Figure size 640x480 with 1 Axes>"
      ]
     },
     "metadata": {},
     "output_type": "display_data"
    }
   ],
   "source": [
    "# Here's an example of the glider pattern from above defined in a single string...\n",
    "glider_pattern = \\\n",
    "    \"\"\"\n",
    "    010\n",
    "    001\n",
    "    111\n",
    "    \"\"\"\n",
    "# Taken from https://conwaylife.com/patterns/gospergundestroyedbygliders.cells\n",
    "gosper_gun_pattern = \\\n",
    "    \"\"\"\n",
    "    01000000000000000000000000000000000000000000000\n",
    "    00100000000000000000000000000000000000000000000\n",
    "    11100000000000000000000000000000000000000000000\n",
    "    00000000000000000000000000000000000000000000000\n",
    "    00000000000000000000000000000000000000000000000\n",
    "    00000000000000000000000000000000000000000000000\n",
    "    00000000000000000000000000000000000000000000000\n",
    "    00000000000000000000000000000000000000000000000\n",
    "    00000000000000010000000000000000000000000000000\n",
    "    00000000000000011110000000000000000000000000000\n",
    "    00000000000000001111000000000011000000000000000\n",
    "    00000110000000001001000000000101000000000000000\n",
    "    00000110000000001111000000001110000000011000000\n",
    "    00000000000000011110000000011100000000011000000\n",
    "    00000000000000010000000000001110000000000000000\n",
    "    00000000000000000000000000000101000000000000000\n",
    "    00000000000000000000000000000011000000000000000\n",
    "    00000000000000000000000000000000000000000000000\n",
    "    00000000000000000000000000000000000000000000000\n",
    "    00000000000000000000000000000000000000000000000\n",
    "    00000000000000000000000000000000000000000000000\n",
    "    00000000000000000000000000000000000000000000000\n",
    "    00000000000000000000000000000000000000000000000\n",
    "    00000000000000000000000000000000000000000000011\n",
    "    00000000000000000000000000000000000000000000110\n",
    "    00000000000000000000000000000000000000000000001\n",
    "    \"\"\"\n",
    "\n",
    "\n",
    "\n",
    "\n",
    "# Solution for Ex. 3\n",
    "# Borrowed from Lab 5, exercise 1\n",
    "def from_string_array(stringBinary):\n",
    "    arrs = stringBinary.split() # split by every line.\n",
    "    #return np.array([int(i) for i in stringBinary])\n",
    "    arrs = np.array(  [list(i) for i in arrs], dtype=np.uint8)\n",
    "    return arrs\n",
    "\n",
    "def loaded(n_rows, patt):\n",
    "    load = BetterLife2D(n_rows)\n",
    "    lifeRows, lifeCols = load.state.shape\n",
    "    pattRows, pattCols = patt.shape\n",
    "    \n",
    "    # Easy auto placement\n",
    "    lifeRows = lifeRows//3\n",
    "    lifeCols = lifeCols//3\n",
    "    pattR = lifeRows + pattRows\n",
    "    pattC = lifeCols + pattCols\n",
    "    \n",
    "    load.state[lifeRows:pattR,lifeCols:pattC] = patt\n",
    "    np.pad(load.state, 300 ,mode='constant')\n",
    "    return load\n",
    "\n",
    "\n",
    "glid = from_string_array(gosper_gun_pattern)\n",
    "l = loaded(100, glid)\n",
    "\n",
    "l.draw()\n",
    "\n",
    "\n",
    "\n"
   ]
  },
  {
   "cell_type": "code",
   "execution_count": 560,
   "metadata": {},
   "outputs": [
    {
     "data": {
      "image/png": "[encoded data removed]",
      "text/plain": [
       "<Figure size 640x480 with 1 Axes>"
      ]
     },
     "metadata": {},
     "output_type": "display_data"
    }
   ],
   "source": [
    "l.step()\n",
    "l.draw()"
   ]
  },
  {
   "cell_type": "markdown",
   "metadata": {
    "pycharm": {
     "name": "#%% md\n"
    }
   },
   "source": [
    "### Define some patterns\n",
    "User your nifty new function to define a few common, interesting patterns (e.g., from the book or other sources)"
   ]
  },
  {
   "cell_type": "code",
   "execution_count": 561,
   "metadata": {
    "collapsed": false,
    "jupyter": {
     "outputs_hidden": false
    },
    "pycharm": {
     "name": "#%%\n"
    }
   },
   "outputs": [
    {
     "data": {
      "image/png": "[encoded data removed]",
      "text/plain": [
       "<Figure size 800x800 with 1 Axes>"
      ]
     },
     "metadata": {},
     "output_type": "display_data"
    }
   ],
   "source": [
    "# define your patterns here\n",
    "# Taken from https://conwaylife.com/patterns/nonominoswitchenginepredecessor.cells\n",
    "switch_engine = \\\n",
    "    \"\"\"\n",
    "    111000\n",
    "    001010\n",
    "    001111\n",
    "    \"\"\"\n",
    "s = Animation2D(loaded(50, from_string_array(switch_engine)), frames=200)\n",
    "s.animate()"
   ]
  },
  {
   "cell_type": "markdown",
   "metadata": {
    "pycharm": {
     "name": "#%% md\n"
    }
   },
   "source": [
    "### Experiment\n",
    "Load up a BetterLife2D object with some patterns that interact in some interesting way.\n",
    "What can we learn from studying interactions like this?   Is anything here applicable to the real world?"
   ]
  },
  {
   "cell_type": "code",
   "execution_count": null,
   "metadata": {
    "collapsed": false,
    "jupyter": {
     "outputs_hidden": false
    },
    "pycharm": {
     "name": "#%%\n"
    }
   },
   "outputs": [],
   "source": [
    "# code for your experiment here"
   ]
  }
 ],
 "metadata": {
  "kernelspec": {
   "display_name": "Python 3 (ipykernel)",
   "language": "python",
   "name": "python3"
  },
  "language_info": {
   "codemirror_mode": {
    "name": "ipython",
    "version": 3
   },
   "file_extension": ".py",
   "mimetype": "text/x-python",
   "name": "python",
   "nbconvert_exporter": "python",
   "pygments_lexer": "ipython3",
   "version": "3.10.8"
  }
 },
 "nbformat": 4,
 "nbformat_minor": 4
}
